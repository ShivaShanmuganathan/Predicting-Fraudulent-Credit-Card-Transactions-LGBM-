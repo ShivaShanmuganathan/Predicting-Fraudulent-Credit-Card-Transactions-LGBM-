{
  "nbformat": 4,
  "nbformat_minor": 0,
  "metadata": {
    "kernelspec": {
      "name": "python3",
      "display_name": "Python 3"
    },
    "language_info": {
      "codemirror_mode": {
        "name": "ipython",
        "version": 3
      },
      "file_extension": ".py",
      "mimetype": "text/x-python",
      "name": "python",
      "nbconvert_exporter": "python",
      "pygments_lexer": "ipython3",
      "version": "3.6.9"
    },
    "toc": {
      "base_numbering": 1,
      "nav_menu": {},
      "number_sections": true,
      "sideBar": true,
      "skip_h1_title": false,
      "title_cell": "Table of Contents",
      "title_sidebar": "Contents",
      "toc_cell": false,
      "toc_position": {},
      "toc_section_display": true,
      "toc_window_display": false
    },
    "colab": {
      "name": "CreditCardFraudDetection_FASTAI.ipynb",
      "provenance": [],
      "collapsed_sections": [
        "hz2Gdkjo6nv-",
        "lzf8nnWx6nwA",
        "_ZAmj-KU6nwC",
        "ywPEQfad6nwS",
        "43zuVhJv6nwZ",
        "thQlKFBi6nwa",
        "OrOrtVhM6nwg",
        "EXH5wcfB6nwu",
        "jHsaZtdW6nw1",
        "p1pqdIZF6nw4",
        "g_ptCuOg6nw7",
        "1FtTUdFe6nxB",
        "_8R3vLpU6nxF",
        "p_9zST246nxJ",
        "JBUICxcM6nxT",
        "Lmi8NakA6nxZ",
        "qpdkgFKD6nxe",
        "YRLdbWl_6nxf",
        "_PmNxRGA6nxh",
        "iYq5WGOJ6nxi",
        "doxrAJAk6nxl",
        "hHdeY8cf6nxo",
        "J0UFZK0A6nxz",
        "8Uqjusiu6nx4",
        "y4O8zku56nyA",
        "KxMAHNLx6nyE",
        "bl8Iq-VD6nyG",
        "neQ_Vncd6nyK",
        "KrEacM0t6nyQ",
        "RFV9Pu6B6nyT",
        "ZFnMRo3X6nyV",
        "6uhWkyFP6nyZ"
      ],
      "toc_visible": true,
      "machine_shape": "hm",
      "include_colab_link": true
    },
    "accelerator": "GPU"
  },
  "cells": [
    {
      "cell_type": "markdown",
      "metadata": {
        "id": "view-in-github",
        "colab_type": "text"
      },
      "source": [
        "<a href=\"https://colab.research.google.com/github/ShivaShanmuganathan/Predicting-Fraudulent-Credit-Card-Transactions-LGBM-/blob/master/CreditCardFraudDetection_FASTAI.ipynb\" target=\"_parent\"><img src=\"https://colab.research.google.com/assets/colab-badge.svg\" alt=\"Open In Colab\"/></a>"
      ]
    },
    {
      "cell_type": "markdown",
      "metadata": {
        "id": "hz2Gdkjo6nv-",
        "colab_type": "text"
      },
      "source": [
        "# 1. <span style=\"font-size:2em;\">[Kaggle competition: IEEE-CIS Fraud Detection](https://www.kaggle.com/c/ieee-fraud-detection/overview) </span>\n",
        "\n",
        "***\n",
        "**<span style=\"font-size:1.5em;\">Detecting fraudulent transactions from customer transactions\n",
        "</span>**\n"
      ]
    },
    {
      "cell_type": "markdown",
      "metadata": {
        "id": "I0oWmj2L6nv_",
        "colab_type": "text"
      },
      "source": [
        "In this competition we are predicting the probability that an online transaction is fraudulent, as denoted by the binary target `isFraud`. The data comes from [Vesta Corporation's](https://trustvesta.com/) real-world e-commerce transactions\n",
        "The data is broken into two files: identity and transaction, which are joined by `TransactionID`.\n",
        "\n",
        "\n"
      ]
    },
    {
      "cell_type": "markdown",
      "metadata": {
        "id": "lzf8nnWx6nwA",
        "colab_type": "text"
      },
      "source": [
        "# 2. Methodology"
      ]
    },
    {
      "cell_type": "markdown",
      "metadata": {
        "id": "IdtFDorE6nwB",
        "colab_type": "text"
      },
      "source": [
        "\n",
        "\n",
        "*   **Importing the libraries and reading the dataset**\n",
        "*   Quick Cleaning and Modeling\n",
        "\n",
        "*   Base LGBM model and feature importance\n",
        "\n",
        "*  Exploratory Data Analysis\n",
        "\n",
        "*   Feature Engineering\n",
        "\n",
        "*    Reducing Memory Usage and Saving Progress\n",
        "*    LGBM Hyperparameter Tuning & Training the Model\n",
        "\n",
        "\n",
        "\n",
        "\n",
        "\n",
        "\n",
        "\n"
      ]
    },
    {
      "cell_type": "markdown",
      "metadata": {
        "id": "_ZAmj-KU6nwC",
        "colab_type": "text"
      },
      "source": [
        "# 3. Importing the libraries and reading the dataset"
      ]
    },
    {
      "cell_type": "code",
      "metadata": {
        "id": "UbRbHyQl6nwD",
        "colab_type": "code",
        "colab": {}
      },
      "source": [
        "%load_ext autoreload\n",
        "%autoreload 2\n",
        "\n",
        "%matplotlib inline"
      ],
      "execution_count": 0,
      "outputs": []
    },
    {
      "cell_type": "code",
      "metadata": {
        "id": "9JWmNd7S6nwG",
        "colab_type": "code",
        "colab": {}
      },
      "source": [
        "import pandas as pd\n",
        "import numpy as np\n",
        "from sklearn.ensemble import RandomForestClassifier, GradientBoostingClassifier, ExtraTreesClassifier\n",
        "import lightgbm as lgb\n",
        "import xgboost as xgb\n",
        "from sklearn.ensemble import forest\n",
        "import os\n",
        "import re\n",
        "import feather\n",
        "from pandas import get_dummies\n",
        "from pandas.api.types import is_string_dtype, is_numeric_dtype, is_categorical_dtype\n",
        "import matplotlib.pyplot as plt\n",
        "import seaborn as sns\n",
        "from scipy.cluster import hierarchy as hc\n",
        "import scipy\n",
        "from sklearn.model_selection import RandomizedSearchCV, GridSearchCV\n",
        "from sklearn.model_selection import KFold, TimeSeriesSplit, StratifiedKFold\n",
        "from sklearn.metrics import roc_curve, roc_auc_score, auc"
      ],
      "execution_count": 0,
      "outputs": []
    },
    {
      "cell_type": "markdown",
      "metadata": {
        "id": "7yZsr5BN6nwJ",
        "colab_type": "text"
      },
      "source": [
        "## 3.1 Loading the data"
      ]
    },
    {
      "cell_type": "markdown",
      "metadata": {
        "id": "6uPB0Q7o6nwJ",
        "colab_type": "text"
      },
      "source": [
        "Loading the data from Kaggle to Google Colab Directly "
      ]
    },
    {
      "cell_type": "code",
      "metadata": {
        "id": "76Tr6O6VEfSa",
        "colab_type": "code",
        "colab": {}
      },
      "source": [
        "from numpy.random import seed\n",
        "from tensorflow import set_random_seed\n"
      ],
      "execution_count": 0,
      "outputs": []
    },
    {
      "cell_type": "code",
      "metadata": {
        "id": "FQ2JKvWA6nwK",
        "colab_type": "code",
        "outputId": "70a0470a-02a2-4ed5-d6b5-6c7324d29e7c",
        "colab": {
          "base_uri": "https://localhost:8080/",
          "height": 622
        }
      },
      "source": [
        "os.environ['KAGGLE_USERNAME'] = \"shanshiva\"\n",
        "os.environ['KAGGLE_KEY'] = \"xxxx\"\n",
        "\n",
        "seed(100)\n",
        "set_random_seed(100)\n",
        "!kaggle competitions download -c ieee-fraud-detection\n",
        "!unzip \\*.zip\n",
        "\n",
        "# Path to our data folder\n",
        "PATH = \"/content/\"\n",
        "\n",
        "# Show the contents of our data folder\n",
        "!ls \"/content\""
      ],
      "execution_count": 6,
      "outputs": [
        {
          "output_type": "stream",
          "text": [
            "Warning: Looks like you're using an outdated API Version, please consider updating (server 1.5.6 / client 1.5.4)\n",
            "Downloading train_transaction.csv.zip to /content\n",
            " 97% 51.0M/52.5M [00:00<00:00, 32.1MB/s]\n",
            "100% 52.5M/52.5M [00:00<00:00, 63.6MB/s]\n",
            "Downloading train_identity.csv.zip to /content\n",
            "  0% 0.00/3.02M [00:00<?, ?B/s]\n",
            "100% 3.02M/3.02M [00:00<00:00, 99.1MB/s]\n",
            "Downloading test_transaction.csv.zip to /content\n",
            " 99% 47.0M/47.3M [00:00<00:00, 57.4MB/s]\n",
            "100% 47.3M/47.3M [00:00<00:00, 96.4MB/s]\n",
            "Downloading test_identity.csv.zip to /content\n",
            "  0% 0.00/2.97M [00:00<?, ?B/s]\n",
            "100% 2.97M/2.97M [00:00<00:00, 202MB/s]\n",
            "Downloading sample_submission.csv.zip to /content\n",
            "  0% 0.00/1.14M [00:00<?, ?B/s]\n",
            "100% 1.14M/1.14M [00:00<00:00, 164MB/s]\n",
            "Archive:  train_transaction.csv.zip\n",
            "  inflating: train_transaction.csv   \n",
            "\n",
            "Archive:  test_transaction.csv.zip\n",
            "  inflating: test_transaction.csv    \n",
            "\n",
            "Archive:  test_identity.csv.zip\n",
            "  inflating: test_identity.csv       \n",
            "\n",
            "Archive:  train_identity.csv.zip\n",
            "  inflating: train_identity.csv      \n",
            "\n",
            "Archive:  sample_submission.csv.zip\n",
            "  inflating: sample_submission.csv   \n",
            "\n",
            "5 archives were successfully processed.\n",
            "sample_data\t\t   test_identity.csv.zip     train_identity.csv.zip\n",
            "sample_submission.csv\t   test_transaction.csv      train_transaction.csv\n",
            "sample_submission.csv.zip  test_transaction.csv.zip  train_transaction.csv.zip\n",
            "test_identity.csv\t   train_identity.csv\n"
          ],
          "name": "stdout"
        }
      ]
    },
    {
      "cell_type": "code",
      "metadata": {
        "id": "2PHxyDBt6nwN",
        "colab_type": "code",
        "colab": {}
      },
      "source": [
        "# load training_set\n",
        "df_id_train = pd.read_csv(f'{PATH}train_identity.csv')\n",
        "df_trans_train = pd.read_csv(f'{PATH}train_transaction.csv')\n",
        "\n",
        "# load test_set\n",
        "df_id_test = pd.read_csv(f'{PATH}test_identity.csv')\n",
        "df_trans_test = pd.read_csv(f'{PATH}test_transaction.csv')"
      ],
      "execution_count": 0,
      "outputs": []
    },
    {
      "cell_type": "code",
      "metadata": {
        "id": "2AcPmywf6nwQ",
        "colab_type": "code",
        "colab": {}
      },
      "source": [
        "# Smaller helped function for visualization\n",
        "def display_all(df):\n",
        "    '''\n",
        "    Small helper function to allow us to disaply 1000 rows and columns. This will come in handy \n",
        "    because we are dealing with a lot of columns\n",
        "    '''\n",
        "    with pd.option_context(\"display.max_rows\", 1000, \"display.max_columns\", 1000): \n",
        "        display(df)"
      ],
      "execution_count": 0,
      "outputs": []
    },
    {
      "cell_type": "markdown",
      "metadata": {
        "id": "ywPEQfad6nwS",
        "colab_type": "text"
      },
      "source": [
        "## 3.2 Merge our dataframes"
      ]
    },
    {
      "cell_type": "code",
      "metadata": {
        "id": "OMTyTPju6nwS",
        "colab_type": "code",
        "colab": {}
      },
      "source": [
        "df_train = df_trans_train.merge(df_id_train, on='TransactionID', how='left')\n",
        "df_test = df_trans_test.merge(df_id_test, on='TransactionID', how='left')"
      ],
      "execution_count": 0,
      "outputs": []
    },
    {
      "cell_type": "code",
      "metadata": {
        "id": "Fym0-Wag6nwU",
        "colab_type": "code",
        "colab": {}
      },
      "source": [
        "# Set 'TransactionID' as index\n",
        "df_train = df_train.set_index('TransactionID')\n",
        "df_test = df_test.set_index('TransactionID')"
      ],
      "execution_count": 0,
      "outputs": []
    },
    {
      "cell_type": "code",
      "metadata": {
        "id": "cWrwSgQ_6nwW",
        "colab_type": "code",
        "colab": {}
      },
      "source": [
        "# Create a copy of the original datasets - ones without any changes\n",
        "df_train_og = df_train.copy()\n",
        "df_test_og = df_test.copy()"
      ],
      "execution_count": 0,
      "outputs": []
    },
    {
      "cell_type": "code",
      "metadata": {
        "id": "kwi1Ewgd6nwX",
        "colab_type": "code",
        "outputId": "36c6c595-b217-43ca-aa77-ca6f7ed6fa1d",
        "colab": {
          "base_uri": "https://localhost:8080/",
          "height": 34
        }
      },
      "source": [
        "# Sanity check for the merge\n",
        "df_train.shape, df_test.shape"
      ],
      "execution_count": 11,
      "outputs": [
        {
          "output_type": "execute_result",
          "data": {
            "text/plain": [
              "((590540, 433), (506691, 432))"
            ]
          },
          "metadata": {
            "tags": []
          },
          "execution_count": 11
        }
      ]
    },
    {
      "cell_type": "markdown",
      "metadata": {
        "heading_collapsed": true,
        "id": "43zuVhJv6nwZ",
        "colab_type": "text"
      },
      "source": [
        "# 4. Quick Cleaning and Modeling"
      ]
    },
    {
      "cell_type": "markdown",
      "metadata": {
        "hidden": true,
        "id": "thQlKFBi6nwa",
        "colab_type": "text"
      },
      "source": [
        "## 4.1 Convert strings to pandas categories"
      ]
    },
    {
      "cell_type": "markdown",
      "metadata": {
        "hidden": true,
        "id": "JGL9XMCY6nwa",
        "colab_type": "text"
      },
      "source": [
        " \n",
        "We create `train_cats` function to convert strings to pandas categories.\n",
        "A lot of our variables are currently stored as strings, which is inefficient, and doesn't provide the numeric coding required to run our models.\n",
        "This function will also allow us to OneHotEncode some of these categories later on. \n",
        "\n",
        "---\n",
        "📣**Insights**: \n",
        "\n",
        "`train_cats` and `apply_cats` are very useful functions taken from Fastai Library."
      ]
    },
    {
      "cell_type": "code",
      "metadata": {
        "hidden": true,
        "id": "1p5x90pt6nwb",
        "colab_type": "code",
        "colab": {}
      },
      "source": [
        "def train_cats(df):\n",
        "    for n,c in df.items():\n",
        "        if is_string_dtype(c): df[n] = c.astype('category').cat.as_ordered()"
      ],
      "execution_count": 0,
      "outputs": []
    },
    {
      "cell_type": "code",
      "metadata": {
        "hidden": true,
        "id": "2-UtB4nT6nwc",
        "colab_type": "code",
        "colab": {}
      },
      "source": [
        "def apply_cats(df):\n",
        "    for n,c in df.items():\n",
        "        if (n in df_train.columns) and (df_train[n].dtype.name=='category'):\n",
        "            df[n] = c.astype('category').cat.as_ordered() # same code as train_cats(df)\n",
        "            df[n].cat.set_categories(df_train[n].cat.categories, ordered=True, inplace=True) # Use df_train as a template"
      ],
      "execution_count": 0,
      "outputs": []
    },
    {
      "cell_type": "code",
      "metadata": {
        "hidden": true,
        "id": "rFEbGp2G6nwe",
        "colab_type": "code",
        "colab": {}
      },
      "source": [
        "train_cats(df_train)\n",
        "apply_cats(df_test)"
      ],
      "execution_count": 0,
      "outputs": []
    },
    {
      "cell_type": "markdown",
      "metadata": {
        "hidden": true,
        "id": "OrOrtVhM6nwg",
        "colab_type": "text"
      },
      "source": [
        "## 4.2 Clean NaN values, apply OneHotEncoding and create new columns based on the NaN values"
      ]
    },
    {
      "cell_type": "markdown",
      "metadata": {
        "hidden": true,
        "id": "BCc3kPCH6nwg",
        "colab_type": "text"
      },
      "source": [
        "These were taken from Fastai Library and slighty simplified for our purposes. Let's review them one by one. \n",
        "1. `numericalize`: Changes a categorical type column from text to its integer codes so that it can be used by our model.\n",
        "2. `fix_missing`: Impute missing data in a column of `df` with the median, and add a `{col_name}_na` column related to the NaN values. The column will show a `0` for rows that didn't have NaN values, and show a `1` if the data was missing.\n",
        "3. `proc_df`: Takes a data frame, splits off the response variable (y), and changes the df into an entirely numeric dataframe by calling `numericalize()` which converts the category columns to their matching category codes. For each column of df which is not in skip_flds nor in ignore_flds, NaN values are replaced by the median value of the column (using `fix_missing()`).\n",
        "    \n",
        "    Returns: `[x, y, nas]` \n",
        "    - `x`: x is the transformed version of df. x will not have the response variable and is entirely numeric.\n",
        "    - `y`: y is the response variable\n",
        "    - `nas`: returns a dictionary of which NaNs it created, and the associated median."
      ]
    },
    {
      "cell_type": "code",
      "metadata": {
        "hidden": true,
        "id": "6rfspZ_96nwh",
        "colab_type": "code",
        "colab": {}
      },
      "source": [
        "def numericalize(df, col, name, max_n_cat):\n",
        "    '''\n",
        "    Details: If the column is not numeric, AND if max_n_cat is not specified OR if the number of categories \n",
        "             in the columns is <= max_n_cat, then we replace the column by its category codes\n",
        "    '''\n",
        "    if not is_numeric_dtype(col) and (max_n_cat is None or len(col.cat.categories)>max_n_cat):\n",
        "        df[name] = pd.Categorical(col).codes+1"
      ],
      "execution_count": 0,
      "outputs": []
    },
    {
      "cell_type": "code",
      "metadata": {
        "hidden": true,
        "id": "ZLfBNUft6nwi",
        "colab_type": "code",
        "colab": {}
      },
      "source": [
        "def fix_missing(df, col, name, na_dict):\n",
        "    '''\n",
        "    Details: If the column has null values or if we passed in a na_dict:\n",
        "             Then we create a new column [name+'_na'] indicating where the NaNs were\n",
        "             \n",
        "    '''\n",
        "    if is_numeric_dtype(col):\n",
        "        if pd.isnull(col).sum() or (name in na_dict):\n",
        "            df[name+'_na'] = pd.isnull(col)\n",
        "            filler = na_dict[name] if name in na_dict else col.median()\n",
        "            df[name] = col.fillna(filler)\n",
        "            na_dict[name] = filler\n",
        "    return na_dict"
      ],
      "execution_count": 0,
      "outputs": []
    },
    {
      "cell_type": "code",
      "metadata": {
        "hidden": true,
        "id": "vI4aI9gH6nwk",
        "colab_type": "code",
        "colab": {}
      },
      "source": [
        "def proc_df(df, y_fld=None, na_dict=None, max_n_cat=None):   \n",
        "    \n",
        "    df = df.copy()\n",
        "    \n",
        "    if y_fld is None:\n",
        "        y = None\n",
        "        y_fld = []\n",
        "    else:\n",
        "        if not is_numeric_dtype(df[y_fld]): df[y_fld] = pd.Categorical(df[y_fld]).codes\n",
        "        y = df[y_fld].values\n",
        "    df.drop(y_fld, axis=1, inplace=True)\n",
        "\n",
        "    if na_dict is None: na_dict = {}\n",
        "    else: na_dict = na_dict.copy()\n",
        "    na_dict_initial = na_dict.copy()\n",
        "    \n",
        "    # Call fix_missing() to replace NaN values by the median, and create new NaN columns\n",
        "    for n,c in df.items(): na_dict = fix_missing(df, c, n, na_dict)\n",
        "    if len(na_dict_initial.keys()) > 0:\n",
        "        df.drop([a + '_na' for a in list(set(na_dict.keys()) - set(na_dict_initial.keys()))], axis=1, inplace=True)\n",
        "        \n",
        "    # Apply numericalize() to change a column to it's category code\n",
        "    for n,c in df.items(): numericalize(df, c, n, max_n_cat)\n",
        "    df = pd.get_dummies(df, dummy_na=True) # get_dummie checks for everything that is still a category and OneHotEncodes\n",
        "    \n",
        "    res = [df, y, na_dict]\n",
        "\n",
        "    return res"
      ],
      "execution_count": 0,
      "outputs": []
    },
    {
      "cell_type": "markdown",
      "metadata": {
        "hidden": true,
        "id": "sVD5ymAF6nwl",
        "colab_type": "text"
      },
      "source": [
        "Let's call `proc_df` and pass the argument `max_n_cat=8` which will apply `get_dummies()` on category types that have 8 categories or less."
      ]
    },
    {
      "cell_type": "code",
      "metadata": {
        "hidden": true,
        "id": "73-Z7QZA6nwm",
        "colab_type": "code",
        "colab": {}
      },
      "source": [
        "# Apply proc_df to transform our dataframe, remove NAs and create new columns with NAs\n",
        "df_train, y, nas = proc_df(df_train, 'isFraud', max_n_cat=8)"
      ],
      "execution_count": 0,
      "outputs": []
    },
    {
      "cell_type": "code",
      "metadata": {
        "hidden": true,
        "id": "mciz58QN6nwq",
        "colab_type": "code",
        "colab": {}
      },
      "source": [
        "# Apply proc_df to the test dataframe\n",
        "df_test, _, nas = proc_df(df_test, na_dict=nas, max_n_cat=8)"
      ],
      "execution_count": 0,
      "outputs": []
    },
    {
      "cell_type": "code",
      "metadata": {
        "hidden": true,
        "scrolled": true,
        "id": "GAwcxnIM6nws",
        "colab_type": "code",
        "colab": {}
      },
      "source": [
        "# Visual assessment of the result\n",
        "# display_all(df_train)"
      ],
      "execution_count": 0,
      "outputs": []
    },
    {
      "cell_type": "markdown",
      "metadata": {
        "hidden": true,
        "id": "Vu8tWssS6nwu",
        "colab_type": "text"
      },
      "source": [
        "---\n",
        "📣**Insights**: \n",
        "\n",
        "`proc_df`, `numericalize` and `fix_missing` allow us to use all columns in our dataframe for our model. We're also getting extra columns with potentially very good information: for each column that contained a NaN value, we are creating a new function telling us where the NaN value was. If these columns end up being useless, they will get cleaned afterwards. \n",
        "___\n",
        "\n",
        "With just very little effort, our dataframe is already ready to for training."
      ]
    },
    {
      "cell_type": "markdown",
      "metadata": {
        "hidden": true,
        "id": "EXH5wcfB6nwu",
        "colab_type": "text"
      },
      "source": [
        "## 4.3 Training and creating a validation set with timeseries data"
      ]
    },
    {
      "cell_type": "markdown",
      "metadata": {
        "hidden": true,
        "id": "034gpF2h6nwv",
        "colab_type": "text"
      },
      "source": [
        "---\n",
        "📣Sampling: \n",
        "\n",
        "For large datasets, when finding the best hyperparameters and deciding which features to keep, we should first work on a sample of our dataframe so that the training time is reduced. This allows us to test more at a fraction of the time. Only once we think we have a good model should we can try it on the whole data set. \n",
        "___"
      ]
    },
    {
      "cell_type": "markdown",
      "metadata": {
        "hidden": true,
        "id": "WqqmkL4M6nwv",
        "colab_type": "text"
      },
      "source": [
        "**Training and validation set function on all the data**"
      ]
    },
    {
      "cell_type": "code",
      "metadata": {
        "hidden": true,
        "id": "C1xpVh2K6nww",
        "colab_type": "code",
        "colab": {}
      },
      "source": [
        "# Create a function that will split our training dataset. \n",
        "def split_vals(a, n):\n",
        "    return a[:n].copy(), a[n:].copy()"
      ],
      "execution_count": 0,
      "outputs": []
    },
    {
      "cell_type": "markdown",
      "metadata": {
        "hidden": true,
        "id": "PavlnjJi6nwy",
        "colab_type": "text"
      },
      "source": [
        "**Sampling training and validation set function**"
      ]
    },
    {
      "cell_type": "code",
      "metadata": {
        "hidden": true,
        "id": "de__oMiY6nwy",
        "colab_type": "code",
        "colab": {}
      },
      "source": [
        "# Create a function that will create a sample training and validation set \n",
        "def split_vals_sample(a, n, m):\n",
        "    return a[500000:500000+n].copy(), a[500000+n:500000+m].copy()"
      ],
      "execution_count": 0,
      "outputs": []
    },
    {
      "cell_type": "code",
      "metadata": {
        "hidden": true,
        "id": "QONQofuH6nwz",
        "colab_type": "code",
        "outputId": "9c265220-668b-4430-92bc-199a83116f45",
        "colab": {}
      },
      "source": [
        "# Choose a large enough n\n",
        "n = 500_000\n",
        "X_train, X_valid = split_vals(df_train, n)\n",
        "y_train, y_valid = split_vals(y, n)\n",
        "raw_train, raw_valid = split_vals(df_train_og, n)\n",
        "\n",
        "print(F'X_train: {len(X_train)}, X_valid: {len(X_valid)}, y_train: {len(y_train)}, y_valid: {len(y_valid)}')"
      ],
      "execution_count": 0,
      "outputs": [
        {
          "output_type": "stream",
          "text": [
            "X_train: 500000, X_valid: 90540, y_train: 500000, y_valid: 90540\n"
          ],
          "name": "stdout"
        }
      ]
    },
    {
      "cell_type": "markdown",
      "metadata": {
        "heading_collapsed": true,
        "id": "jHsaZtdW6nw1",
        "colab_type": "text"
      },
      "source": [
        "# 5. Base LGBM model and feature importance"
      ]
    },
    {
      "cell_type": "code",
      "metadata": {
        "hidden": true,
        "id": "B4zm1kjX6nw1",
        "colab_type": "code",
        "outputId": "ad1046ee-cebd-4d34-f7e7-0a8edf8d7849",
        "colab": {}
      },
      "source": [
        "params = {'metric': 'auc'}\n",
        "\n",
        "dtrain = lgb.Dataset(X_train, label=y_train)\n",
        "dvalid = lgb.Dataset(X_valid, label=y_valid)\n",
        "\n",
        "%time clf = lgb.train(params, dtrain, 10000, valid_sets = [dtrain, dvalid], verbose_eval=200, early_stopping_rounds=500)"
      ],
      "execution_count": 0,
      "outputs": [
        {
          "output_type": "stream",
          "text": [
            "Training until validation scores don't improve for 500 rounds.\n",
            "[200]\ttraining's auc: 0.927545\tvalid_1's auc: 0.879584\n",
            "[400]\ttraining's auc: 0.943789\tvalid_1's auc: 0.885718\n",
            "[600]\ttraining's auc: 0.953669\tvalid_1's auc: 0.891369\n",
            "[800]\ttraining's auc: 0.961838\tvalid_1's auc: 0.891834\n",
            "[1000]\ttraining's auc: 0.966789\tvalid_1's auc: 0.891689\n",
            "Early stopping, best iteration is:\n",
            "[653]\ttraining's auc: 0.955934\tvalid_1's auc: 0.89347\n",
            "Wall time: 4min 27s\n"
          ],
          "name": "stdout"
        }
      ]
    },
    {
      "cell_type": "markdown",
      "metadata": {
        "hidden": true,
        "id": "p1pqdIZF6nw4",
        "colab_type": "text"
      },
      "source": [
        "## 5.1 Model interpretation\n",
        "\n",
        "Let's use LightGBM's plot_importance method to plot the top 50 features that have the most impact."
      ]
    },
    {
      "cell_type": "code",
      "metadata": {
        "hidden": true,
        "scrolled": false,
        "id": "lWdUZcve6nw4",
        "colab_type": "code",
        "outputId": "681683db-b0f9-436c-a6b6-4c5f87c5799a",
        "colab": {}
      },
      "source": [
        "lgb.plot_importance(clf, figsize=(15,20), max_num_features=50)"
      ],
      "execution_count": 0,
      "outputs": [
        {
          "output_type": "execute_result",
          "data": {
            "text/plain": [
              "<matplotlib.axes._subplots.AxesSubplot at 0x18fff013240>"
            ]
          },
          "metadata": {
            "tags": []
          },
          "execution_count": 286
        },
        {
          "output_type": "display_data",
          "data": {
            "image/png": "[encoded data removed]",
            "text/plain": [
              "<Figure size 1080x1440 with 1 Axes>"
            ]
          },
          "metadata": {
            "tags": [],
            "needs_background": "light"
          }
        }
      ]
    },
    {
      "cell_type": "markdown",
      "metadata": {
        "hidden": true,
        "id": "pFk1NCyK6nw7",
        "colab_type": "text"
      },
      "source": [
        "From the feature importance plot, we know that the following features are important and worth looking at in detail:\n",
        "- All card features (`card1`, `card2`, etc.): payment card information, such as card type, card category, issue bank, country, etc.\n",
        "- `TransactionDT`: timedelta from a given reference datetime (not an actual timestamp)\n",
        "- `TransactionAmt`: transaction payment amount in USD\n",
        "- `addr1`: address\n",
        "- `P_emaildomain`, `R_emaildomain`: purchaser and recipient email domain\n",
        "- `C13`, `C1`, `C2`, `C14`: related with counting, such as how many addresses are found to be associated with the payment card, etc. The actual meaning is masked.\n",
        "- `id_31`: Information about the user's browser.\n",
        "\n",
        "There are more but these are the main ones we'll look at."
      ]
    },
    {
      "cell_type": "markdown",
      "metadata": {
        "heading_collapsed": true,
        "id": "g_ptCuOg6nw7",
        "colab_type": "text"
      },
      "source": [
        "# 6. Exploratory Data Analysis"
      ]
    },
    {
      "cell_type": "code",
      "metadata": {
        "hidden": true,
        "id": "A-sop9tX6nw8",
        "colab_type": "code",
        "colab": {}
      },
      "source": [
        "def get_sample(df,n):\n",
        "    idxs = sorted(np.random.permutation(len(df))[:n])\n",
        "    return df.iloc[idxs].copy()\n",
        "\n",
        "df_sample = get_sample(df_train, 500)"
      ],
      "execution_count": 0,
      "outputs": []
    },
    {
      "cell_type": "code",
      "metadata": {
        "hidden": true,
        "id": "KqlNXwLA6nw_",
        "colab_type": "code",
        "colab": {}
      },
      "source": [
        "# Add 'isFraud' back to our dataframe for EDA purposes\n",
        "df_train['isFraud'] = df_train_og['isFraud']"
      ],
      "execution_count": 0,
      "outputs": []
    },
    {
      "cell_type": "markdown",
      "metadata": {
        "hidden": true,
        "id": "1FtTUdFe6nxB",
        "colab_type": "text"
      },
      "source": [
        "## 6.1 Target variable: IsFraud"
      ]
    },
    {
      "cell_type": "markdown",
      "metadata": {
        "hidden": true,
        "id": "jbtJKN276nxB",
        "colab_type": "text"
      },
      "source": [
        "Only **20,663** or **3.5%** of transactions were fraudulent. "
      ]
    },
    {
      "cell_type": "code",
      "metadata": {
        "hidden": true,
        "id": "KclWHyOa6nxC",
        "colab_type": "code",
        "outputId": "b8dc76bf-fcd6-413d-d107-bf89d8c13f8f",
        "colab": {}
      },
      "source": [
        "plt.figure(figsize=(10, 3))\n",
        "sns.countplot(data=df_train, y= 'isFraud')"
      ],
      "execution_count": 0,
      "outputs": [
        {
          "output_type": "execute_result",
          "data": {
            "text/plain": [
              "<matplotlib.axes._subplots.AxesSubplot at 0x18fb473f630>"
            ]
          },
          "metadata": {
            "tags": []
          },
          "execution_count": 48
        },
        {
          "output_type": "display_data",
          "data": {
            "image/png": "[encoded data removed]",
            "text/plain": [
              "<Figure size 720x216 with 1 Axes>"
            ]
          },
          "metadata": {
            "tags": [],
            "needs_background": "light"
          }
        }
      ]
    },
    {
      "cell_type": "code",
      "metadata": {
        "hidden": true,
        "id": "3j8j9s-d6nxE",
        "colab_type": "code",
        "outputId": "a7e2091f-5883-454e-e404-f81e3b1b5d0b",
        "colab": {}
      },
      "source": [
        "df_train.isFraud.value_counts()"
      ],
      "execution_count": 0,
      "outputs": [
        {
          "output_type": "execute_result",
          "data": {
            "text/plain": [
              "0    569877\n",
              "1     20663\n",
              "Name: isFraud, dtype: int64"
            ]
          },
          "metadata": {
            "tags": []
          },
          "execution_count": 165
        }
      ]
    },
    {
      "cell_type": "markdown",
      "metadata": {
        "hidden": true,
        "id": "_8R3vLpU6nxF",
        "colab_type": "text"
      },
      "source": [
        "## 6.2 Cards"
      ]
    },
    {
      "cell_type": "markdown",
      "metadata": {
        "hidden": true,
        "id": "AcPHEiZm6nxG",
        "colab_type": "text"
      },
      "source": [
        "Let's start by visualizing the relationships and distributions of our numerical Cards variables."
      ]
    },
    {
      "cell_type": "code",
      "metadata": {
        "hidden": true,
        "id": "IMOweM5c6nxI",
        "colab_type": "code",
        "outputId": "ae899570-7c68-4677-f6bc-bb523dd6bdf4",
        "colab": {}
      },
      "source": [
        "plt.figure(figsize=[12,5])\n",
        "\n",
        "# card4\n",
        "plt.subplot(1,2,1)\n",
        "sns.countplot(data=df_train, x='card4')\n",
        "plt.title('Card4 Variable')\n",
        "\n",
        "# card6\n",
        "plt.subplot(1,2,2)\n",
        "sns.countplot(data=df_train, x='card6')\n",
        "plt.title('Card6 Variable')"
      ],
      "execution_count": 0,
      "outputs": [
        {
          "output_type": "execute_result",
          "data": {
            "text/plain": [
              "Text(0.5, 1.0, 'Card6 Variable')"
            ]
          },
          "metadata": {
            "tags": []
          },
          "execution_count": 55
        },
        {
          "output_type": "display_data",
          "data": {
            "image/png": "[encoded data removed]",
            "text/plain": [
              "<Figure size 864x360 with 2 Axes>"
            ]
          },
          "metadata": {
            "tags": [],
            "needs_background": "light"
          }
        }
      ]
    },
    {
      "cell_type": "markdown",
      "metadata": {
        "hidden": true,
        "id": "1GK_euPO6nxJ",
        "colab_type": "text"
      },
      "source": [
        "These variables will definitely be One Hot Encoded to make sure we're capturing all of their influence. "
      ]
    },
    {
      "cell_type": "markdown",
      "metadata": {
        "hidden": true,
        "id": "p_9zST246nxJ",
        "colab_type": "text"
      },
      "source": [
        "## 6.3 TransactionAMT "
      ]
    },
    {
      "cell_type": "markdown",
      "metadata": {
        "hidden": true,
        "id": "ICCVC8Jg6nxK",
        "colab_type": "text"
      },
      "source": [
        "As we'll see below, taking the log of the transaction amount really helps interpretation."
      ]
    },
    {
      "cell_type": "markdown",
      "metadata": {
        "hidden": true,
        "id": "05xPlWfs6nxL",
        "colab_type": "text"
      },
      "source": [
        "### Distribution"
      ]
    },
    {
      "cell_type": "code",
      "metadata": {
        "hidden": true,
        "id": "JDQXwpxg6nxL",
        "colab_type": "code",
        "outputId": "57fb27d9-4446-4fc0-e5f8-a4a7f6746c9e",
        "colab": {}
      },
      "source": [
        "# Take the log transaction amount with plt.xscale('log') and adjust the bins and ticks accordingly\n",
        "data = df_train.TransactionAmt\n",
        "data_bins = 10 ** np.arange(0.2, np.log10(data.max())+0.2, 0.2)\n",
        "plt.hist(data, bins=data_bins);\n",
        "plt.xscale('log')\n",
        "tick_loc = [5, 10, 30, 100, 300, 1000, 3000, 10000]\n",
        "plt.xticks(tick_loc, tick_loc)\n",
        "plt.xlabel('log values');"
      ],
      "execution_count": 0,
      "outputs": [
        {
          "output_type": "display_data",
          "data": {
            "image/png": "[encoded data removed]",
            "text/plain": [
              "<Figure size 432x288 with 1 Axes>"
            ]
          },
          "metadata": {
            "tags": [],
            "needs_background": "light"
          }
        }
      ]
    },
    {
      "cell_type": "markdown",
      "metadata": {
        "hidden": true,
        "id": "wuaMSXlT6nxO",
        "colab_type": "text"
      },
      "source": [
        "### Distribution of fraudulent VS non fraudulent transaction amounts"
      ]
    },
    {
      "cell_type": "code",
      "metadata": {
        "hidden": true,
        "id": "8PxaYyZq6nxO",
        "colab_type": "code",
        "outputId": "fce0e74e-bd8b-4e2e-d2a6-5ec2f857af36",
        "colab": {}
      },
      "source": [
        "plt.figure(figsize=[5, 10])\n",
        "\n",
        "plt.subplot(2,1,1)\n",
        "data = df_train[df_train['isFraud'] == 1].TransactionAmt\n",
        "log_bins = 10 ** np.arange(0.2, np.log10(data.max())+0.2, 0.2)\n",
        "plt.hist(data, bins=log_bins);\n",
        "plt.xscale('log')\n",
        "tick_loc = [5, 10, 30, 100, 300, 1000, 3000, 10000, 38000]\n",
        "plt.xticks(tick_loc, tick_loc)\n",
        "plt.xlabel('Amount in USD');\n",
        "plt.title('Transaction is Fraudulent');\n",
        "\n",
        "plt.subplot(2,1,2)\n",
        "data = df_train[df_train['isFraud'] == 0].TransactionAmt\n",
        "log_bins = 10 ** np.arange(0.2, np.log10(data.max())+0.2, 0.2)\n",
        "plt.hist(data, bins=log_bins);\n",
        "plt.xscale('log')\n",
        "tick_loc = [5, 10, 30, 100, 300, 1000, 3000, 10000, 38000]\n",
        "plt.xticks(tick_loc, tick_loc)\n",
        "plt.xlabel('Amount in USD');\n",
        "plt.title('Transaction is NOT Fraudulent');"
      ],
      "execution_count": 0,
      "outputs": [
        {
          "output_type": "display_data",
          "data": {
            "image/png": "[encoded data removed]",
            "text/plain": [
              "<Figure size 360x720 with 2 Axes>"
            ]
          },
          "metadata": {
            "tags": [],
            "needs_background": "light"
          }
        }
      ]
    },
    {
      "cell_type": "markdown",
      "metadata": {
        "hidden": true,
        "id": "Atm_7LHE6nxQ",
        "colab_type": "text"
      },
      "source": [
        "There doesn't seem to be a big different in distributions betweem fraudulent and non fraudulent amounts. "
      ]
    },
    {
      "cell_type": "markdown",
      "metadata": {
        "hidden": true,
        "id": "JBUICxcM6nxT",
        "colab_type": "text"
      },
      "source": [
        "## 6.6 'Cxx' columns"
      ]
    },
    {
      "cell_type": "markdown",
      "metadata": {
        "hidden": true,
        "id": "shVi4-DP6nxT",
        "colab_type": "text"
      },
      "source": [
        "\n",
        "\n",
        "\n",
        "---\n",
        "📣**Dendrogram**: \n",
        "We saw that some Cxx columns were important.\n",
        "With hierarchical clustering, a neat feature is being able to visualize the distance between each point. This is called a dendrogram. You can find the code for it below. \n",
        "___"
      ]
    },
    {
      "cell_type": "code",
      "metadata": {
        "hidden": true,
        "id": "ey3f4Nhs6nxV",
        "colab_type": "code",
        "outputId": "e70109b9-77e9-4da0-f772-85ebba975c85",
        "colab": {}
      },
      "source": [
        "# Get all Cxx columns\n",
        "c_columns = []\n",
        "[c_columns.append(txt) for txt in df_train.columns if re.search('^[C]\\d+', txt)]\n",
        "        \n",
        "print(c_columns)"
      ],
      "execution_count": 0,
      "outputs": [
        {
          "output_type": "stream",
          "text": [
            "['C1', 'C2', 'C3', 'C4', 'C5', 'C6', 'C7', 'C8', 'C9', 'C10', 'C11', 'C12', 'C13', 'C14']\n"
          ],
          "name": "stdout"
        }
      ]
    },
    {
      "cell_type": "code",
      "metadata": {
        "hidden": true,
        "id": "UC03a4c56nxW",
        "colab_type": "code",
        "outputId": "12765155-8e6d-423c-ce89-be24159b62c9",
        "colab": {}
      },
      "source": [
        "corr = np.round(scipy.stats.spearmanr(df_train[c_columns]).correlation, 4)\n",
        "corr_condensed = hc.distance.squareform(1-corr)\n",
        "z = hc.linkage(corr_condensed, method='average')\n",
        "fig = plt.figure(figsize=(12,7))\n",
        "dendrogram = hc.dendrogram(z, labels=df_train[c_columns].columns, orientation='left', leaf_font_size=16)\n",
        "plt.show()"
      ],
      "execution_count": 0,
      "outputs": [
        {
          "output_type": "display_data",
          "data": {
            "image/png": "[encoded data removed]",
            "text/plain": [
              "<Figure size 864x504 with 1 Axes>"
            ]
          },
          "metadata": {
            "tags": [],
            "needs_background": "light"
          }
        }
      ]
    },
    {
      "cell_type": "markdown",
      "metadata": {
        "hidden": true,
        "id": "3pVmrOMV6nxX",
        "colab_type": "text"
      },
      "source": [
        "Let's have a closer look at 'C10', 'C8' and 'C4'. "
      ]
    },
    {
      "cell_type": "code",
      "metadata": {
        "hidden": true,
        "id": "fJzelyL_6nxY",
        "colab_type": "code",
        "outputId": "c44335ce-e506-4f70-bb65-591c3c8f0b76",
        "colab": {}
      },
      "source": [
        "g = sns.PairGrid(data=df_train, vars = ['C10', 'C8', 'C4'])\n",
        "g.map_diag(plt.hist)\n",
        "g.map_offdiag(plt.scatter)"
      ],
      "execution_count": 0,
      "outputs": [
        {
          "output_type": "execute_result",
          "data": {
            "text/plain": [
              "<seaborn.axisgrid.PairGrid at 0x18fb5d01dd8>"
            ]
          },
          "metadata": {
            "tags": []
          },
          "execution_count": 73
        },
        {
          "output_type": "display_data",
          "data": {
            "image/png": "[encoded data removed]",
            "text/plain": [
              "<Figure size 540x540 with 12 Axes>"
            ]
          },
          "metadata": {
            "tags": [],
            "needs_background": "light"
          }
        }
      ]
    },
    {
      "cell_type": "markdown",
      "metadata": {
        "hidden": true,
        "id": "JzRF9-Bt6nxZ",
        "colab_type": "text"
      },
      "source": [
        "'C10', 'C8' and 'C4' seem to be very close to each other. Maybe we can test removing 1 or 2 of them to limit colinearity "
      ]
    },
    {
      "cell_type": "markdown",
      "metadata": {
        "hidden": true,
        "id": "Lmi8NakA6nxZ",
        "colab_type": "text"
      },
      "source": [
        "## 6.7 P_emaildomain and R_emaildomain"
      ]
    },
    {
      "cell_type": "code",
      "metadata": {
        "hidden": true,
        "id": "MiGLxji-6nxa",
        "colab_type": "code",
        "outputId": "d9ed50ab-da40-4998-aad9-025650ef5d44",
        "colab": {}
      },
      "source": [
        "plt.figure(figsize=[17, 5])\n",
        "base_color = sns.color_palette()[0]\n",
        "sns.countplot(data=df_train, x='P_emaildomain', order=df_train.P_emaildomain.value_counts().iloc[:10].index, color=base_color);\n",
        "plt.xlabel('email provider')\n",
        "plt.title('P_emaildomain distribution - Top 10')"
      ],
      "execution_count": 0,
      "outputs": [
        {
          "output_type": "execute_result",
          "data": {
            "text/plain": [
              "Text(0.5, 1.0, 'P_emaildomain distribution - Top 10')"
            ]
          },
          "metadata": {
            "tags": []
          },
          "execution_count": 153
        },
        {
          "output_type": "display_data",
          "data": {
            "image/png": "[encoded data removed]",
            "text/plain": [
              "<Figure size 1224x360 with 1 Axes>"
            ]
          },
          "metadata": {
            "tags": [],
            "needs_background": "light"
          }
        }
      ]
    },
    {
      "cell_type": "code",
      "metadata": {
        "hidden": true,
        "id": "w48gyutM6nxb",
        "colab_type": "code",
        "outputId": "b29b3e50-b9b7-47a0-a47c-74eb1e7f4a62",
        "colab": {}
      },
      "source": [
        "plt.figure(figsize=[17, 5])\n",
        "sns.countplot(data=df_train, x='R_emaildomain', order=df_train.P_emaildomain.value_counts().iloc[:10].index, color=base_color);\n",
        "plt.xlabel('email provider')\n",
        "plt.title('R_emaildomain distribution - Top 10')"
      ],
      "execution_count": 0,
      "outputs": [
        {
          "output_type": "execute_result",
          "data": {
            "text/plain": [
              "Text(0.5, 1.0, 'R_emaildomain distribution - Top 10')"
            ]
          },
          "metadata": {
            "tags": []
          },
          "execution_count": 154
        },
        {
          "output_type": "display_data",
          "data": {
            "image/png": "[encoded data removed]",
            "text/plain": [
              "<Figure size 1224x360 with 1 Axes>"
            ]
          },
          "metadata": {
            "tags": [],
            "needs_background": "light"
          }
        }
      ]
    },
    {
      "cell_type": "markdown",
      "metadata": {
        "hidden": true,
        "id": "UZ9B_4ow6nxe",
        "colab_type": "text"
      },
      "source": [
        "A lot of these email addresses can be grouped to limit the number of category for these variables (hotmail.com + outlook.com + msn.com = microsoft).  "
      ]
    },
    {
      "cell_type": "markdown",
      "metadata": {
        "hidden": true,
        "id": "qpdkgFKD6nxe",
        "colab_type": "text"
      },
      "source": [
        "## 6.7 Device Info"
      ]
    },
    {
      "cell_type": "code",
      "metadata": {
        "hidden": true,
        "id": "GRRbBXEs6nxe",
        "colab_type": "code",
        "outputId": "ef70cc22-c812-4d2b-8b89-b697afa6b044",
        "colab": {}
      },
      "source": [
        "df_train.DeviceInfo.value_counts()[:20]"
      ],
      "execution_count": 0,
      "outputs": [
        {
          "output_type": "execute_result",
          "data": {
            "text/plain": [
              "Windows                        47722\n",
              "iOS Device                     19782\n",
              "MacOS                          12573\n",
              "Trident/7.0                     7440\n",
              "rv:11.0                         1901\n",
              "rv:57.0                          962\n",
              "SM-J700M Build/MMB29K            549\n",
              "SM-G610M Build/MMB29K            461\n",
              "SM-G531H Build/LMY48B            410\n",
              "rv:59.0                          362\n",
              "SM-G935F Build/NRD90M            334\n",
              "SM-G955U Build/NRD90M            328\n",
              "SM-G532M Build/MMB29T            316\n",
              "ALE-L23 Build/HuaweiALE-L23      312\n",
              "SM-G950U Build/NRD90M            290\n",
              "SM-G930V Build/NRD90M            274\n",
              "rv:58.0                          269\n",
              "rv:52.0                          256\n",
              "SAMSUNG                          235\n",
              "SM-G950F Build/NRD90M            225\n",
              "Name: DeviceInfo, dtype: int64"
            ]
          },
          "metadata": {
            "tags": []
          },
          "execution_count": 79
        }
      ]
    },
    {
      "cell_type": "markdown",
      "metadata": {
        "hidden": true,
        "id": "YRLdbWl_6nxf",
        "colab_type": "text"
      },
      "source": [
        "## 6.8 Id_31 (browser versions)"
      ]
    },
    {
      "cell_type": "code",
      "metadata": {
        "hidden": true,
        "id": "eEB4d93B6nxg",
        "colab_type": "code",
        "outputId": "0975807e-65ea-4b14-fdfc-ca4f19d8c67c",
        "colab": {}
      },
      "source": [
        "df_train_og.id_31.value_counts()[:20]"
      ],
      "execution_count": 0,
      "outputs": [
        {
          "output_type": "execute_result",
          "data": {
            "text/plain": [
              "chrome 63.0                   22000\n",
              "mobile safari 11.0            13423\n",
              "mobile safari generic         11474\n",
              "ie 11.0 for desktop            9030\n",
              "safari generic                 8195\n",
              "chrome 62.0                    7182\n",
              "chrome 65.0                    6871\n",
              "chrome 64.0                    6711\n",
              "chrome 63.0 for android        5806\n",
              "chrome generic                 4778\n",
              "chrome 66.0                    4264\n",
              "edge 16.0                      4188\n",
              "chrome 64.0 for android        3473\n",
              "chrome 65.0 for android        3336\n",
              "firefox 57.0                   3315\n",
              "mobile safari 10.0             2779\n",
              "chrome 66.0 for android        2349\n",
              "chrome 62.0 for android        2097\n",
              "edge 15.0                      1600\n",
              "chrome generic for android     1158\n",
              "Name: id_31, dtype: int64"
            ]
          },
          "metadata": {
            "tags": []
          },
          "execution_count": 288
        }
      ]
    },
    {
      "cell_type": "markdown",
      "metadata": {
        "hidden": true,
        "id": "7X9RbStc6nxh",
        "colab_type": "text"
      },
      "source": [
        "Both `DeviceInfo` and `Id_31` can be split in order to harness more information."
      ]
    },
    {
      "cell_type": "markdown",
      "metadata": {
        "heading_collapsed": true,
        "id": "_PmNxRGA6nxh",
        "colab_type": "text"
      },
      "source": [
        "# 7. Feature Engineering"
      ]
    },
    {
      "cell_type": "markdown",
      "metadata": {
        "hidden": true,
        "id": "gI0t9z4F6nxi",
        "colab_type": "text"
      },
      "source": [
        "Now that we're going to build a serious model, let's first have a look at what we're dealing with in terms of null values in our data set. "
      ]
    },
    {
      "cell_type": "markdown",
      "metadata": {
        "hidden": true,
        "id": "iYq5WGOJ6nxi",
        "colab_type": "text"
      },
      "source": [
        "## Import our data once again to apply feature engineering"
      ]
    },
    {
      "cell_type": "code",
      "metadata": {
        "hidden": true,
        "id": "HEUmSMtA6nxi",
        "colab_type": "code",
        "colab": {}
      },
      "source": [
        "# load training_set\n",
        "df_id_train = pd.read_csv(f'data/train_identity.csv')\n",
        "df_trans_train = pd.read_csv(f'data/train_transaction.csv')\n",
        "\n",
        "# load test_set\n",
        "df_id_test = pd.read_csv(f'data/test_identity.csv')\n",
        "df_trans_test = pd.read_csv(f'data/test_transaction.csv')\n",
        "\n",
        "# Merge\n",
        "df_train = df_trans_train.merge(df_id_train, on='TransactionID', how='left')\n",
        "df_test = df_trans_test.merge(df_id_test, on='TransactionID', how='left')"
      ],
      "execution_count": 0,
      "outputs": []
    },
    {
      "cell_type": "code",
      "metadata": {
        "hidden": true,
        "id": "SDn_q1uT6nxk",
        "colab_type": "code",
        "colab": {}
      },
      "source": [
        "# Set 'TransactionID' as index\n",
        "df_train = df_train.set_index('TransactionID')\n",
        "df_test = df_test.set_index('TransactionID')"
      ],
      "execution_count": 0,
      "outputs": []
    },
    {
      "cell_type": "markdown",
      "metadata": {
        "hidden": true,
        "id": "doxrAJAk6nxl",
        "colab_type": "text"
      },
      "source": [
        "## Identifying and quantifying null values"
      ]
    },
    {
      "cell_type": "code",
      "metadata": {
        "hidden": true,
        "id": "AhgDatRS6nxl",
        "colab_type": "code",
        "outputId": "6ed307f0-f511-44ea-921a-f9cfc26d7965",
        "colab": {}
      },
      "source": [
        "# Get the number of null values per columns\n",
        "null_data = df_train.isnull().sum()[df_train.isnull().sum() != 0] \n",
        "\n",
        "# Create a DF out of the number of null values \n",
        "df_null = pd.DataFrame(null_data, columns = ['number_of_null'])\n",
        "\n",
        "# Create a percentage column\n",
        "df_null['percentage_of_null'] = df_null.number_of_null.values / len(df_train) \n",
        "\n",
        "# Get columns with over 90% null values\n",
        "display_all(df_null[df_null['percentage_of_null'] > 0.9])\n"
      ],
      "execution_count": 0,
      "outputs": [
        {
          "output_type": "display_data",
          "data": {
            "text/html": [
              "<div>\n",
              "<style scoped>\n",
              "    .dataframe tbody tr th:only-of-type {\n",
              "        vertical-align: middle;\n",
              "    }\n",
              "\n",
              "    .dataframe tbody tr th {\n",
              "        vertical-align: top;\n",
              "    }\n",
              "\n",
              "    .dataframe thead th {\n",
              "        text-align: right;\n",
              "    }\n",
              "</style>\n",
              "<table border=\"1\" class=\"dataframe\">\n",
              "  <thead>\n",
              "    <tr style=\"text-align: right;\">\n",
              "      <th></th>\n",
              "      <th>number_of_null</th>\n",
              "      <th>percentage_of_null</th>\n",
              "    </tr>\n",
              "  </thead>\n",
              "  <tbody>\n",
              "    <tr>\n",
              "      <td>dist2</td>\n",
              "      <td>552913</td>\n",
              "      <td>0.936284</td>\n",
              "    </tr>\n",
              "    <tr>\n",
              "      <td>D7</td>\n",
              "      <td>551623</td>\n",
              "      <td>0.934099</td>\n",
              "    </tr>\n",
              "    <tr>\n",
              "      <td>id_07</td>\n",
              "      <td>585385</td>\n",
              "      <td>0.991271</td>\n",
              "    </tr>\n",
              "    <tr>\n",
              "      <td>id_08</td>\n",
              "      <td>585385</td>\n",
              "      <td>0.991271</td>\n",
              "    </tr>\n",
              "    <tr>\n",
              "      <td>id_18</td>\n",
              "      <td>545427</td>\n",
              "      <td>0.923607</td>\n",
              "    </tr>\n",
              "    <tr>\n",
              "      <td>id_21</td>\n",
              "      <td>585381</td>\n",
              "      <td>0.991264</td>\n",
              "    </tr>\n",
              "    <tr>\n",
              "      <td>id_22</td>\n",
              "      <td>585371</td>\n",
              "      <td>0.991247</td>\n",
              "    </tr>\n",
              "    <tr>\n",
              "      <td>id_23</td>\n",
              "      <td>585371</td>\n",
              "      <td>0.991247</td>\n",
              "    </tr>\n",
              "    <tr>\n",
              "      <td>id_24</td>\n",
              "      <td>585793</td>\n",
              "      <td>0.991962</td>\n",
              "    </tr>\n",
              "    <tr>\n",
              "      <td>id_25</td>\n",
              "      <td>585408</td>\n",
              "      <td>0.991310</td>\n",
              "    </tr>\n",
              "    <tr>\n",
              "      <td>id_26</td>\n",
              "      <td>585377</td>\n",
              "      <td>0.991257</td>\n",
              "    </tr>\n",
              "    <tr>\n",
              "      <td>id_27</td>\n",
              "      <td>585371</td>\n",
              "      <td>0.991247</td>\n",
              "    </tr>\n",
              "  </tbody>\n",
              "</table>\n",
              "</div>"
            ],
            "text/plain": [
              "       number_of_null  percentage_of_null\n",
              "dist2          552913            0.936284\n",
              "D7             551623            0.934099\n",
              "id_07          585385            0.991271\n",
              "id_08          585385            0.991271\n",
              "id_18          545427            0.923607\n",
              "id_21          585381            0.991264\n",
              "id_22          585371            0.991247\n",
              "id_23          585371            0.991247\n",
              "id_24          585793            0.991962\n",
              "id_25          585408            0.991310\n",
              "id_26          585377            0.991257\n",
              "id_27          585371            0.991247"
            ]
          },
          "metadata": {
            "tags": []
          }
        }
      ]
    },
    {
      "cell_type": "markdown",
      "metadata": {
        "hidden": true,
        "id": "VkpGxqm96nxm",
        "colab_type": "text"
      },
      "source": [
        "This table shows columns with over 90% null values. Let's clean this up a little and remove columns with 90% null values and over."
      ]
    },
    {
      "cell_type": "markdown",
      "metadata": {
        "hidden": true,
        "id": "hHdeY8cf6nxo",
        "colab_type": "text"
      },
      "source": [
        "### Cleaning columns with too many null values and too many repeated values"
      ]
    },
    {
      "cell_type": "code",
      "metadata": {
        "hidden": true,
        "id": "DJ0fnJvq6nxo",
        "colab_type": "code",
        "colab": {}
      },
      "source": [
        "def get_too_many_null_attr(data):\n",
        "    many_null_cols = [col for col in data.columns if data[col].isnull().sum() / data.shape[0] > 0.9]\n",
        "    return many_null_cols\n",
        "\n",
        "def get_too_many_repeated_val(data):\n",
        "    big_top_value_cols = [col for col in df_train.columns if df_train[col].value_counts(dropna=False, normalize=True).values[0] > 0.9]\n",
        "    return big_top_value_cols\n",
        "\n",
        "def get_useless_columns(data):\n",
        "    too_many_null = get_too_many_null_attr(data)\n",
        "    print(\"More than 90% null: \" + str(len(too_many_null)))\n",
        "    too_many_repeated = get_too_many_repeated_val(data)\n",
        "    print(\"More than 90% repeated value: \" + str(len(too_many_repeated)))\n",
        "    cols_to_drop = list(set(too_many_null + too_many_repeated))\n",
        "    #cols_to_drop.remove('isFraud')\n",
        "    return cols_to_drop"
      ],
      "execution_count": 0,
      "outputs": []
    },
    {
      "cell_type": "code",
      "metadata": {
        "hidden": true,
        "id": "HgNYxBl76nxp",
        "colab_type": "code",
        "outputId": "1158b6c3-7b22-4766-eea8-3db7bb51a11c",
        "colab": {}
      },
      "source": [
        "cols_to_drop = get_useless_columns(df_train)\n"
      ],
      "execution_count": 0,
      "outputs": [
        {
          "output_type": "stream",
          "text": [
            "More than 90% null: 12\n",
            "More than 90% repeated value: 67\n"
          ],
          "name": "stdout"
        }
      ]
    },
    {
      "cell_type": "code",
      "metadata": {
        "hidden": true,
        "id": "FbeR78Fb6nxr",
        "colab_type": "code",
        "colab": {}
      },
      "source": [
        "cols_to_drop = ['id_22', 'id_21', 'V132', 'id_27', 'V124', 'V134', 'V110', 'V135', 'V121', 'V296', 'V297', 'V309', 'id_07',\n",
        " 'V103', 'V119', 'V318', 'id_25', 'V137', 'id_08', 'V118', 'V129', 'V293', 'V101', 'V136', 'V319', 'D7', 'V109', 'V116',\n",
        " 'V106', 'C3', 'id_18', 'V298', 'V123', 'V305', 'V107', 'V108', 'V295', 'V311', 'V98', 'V133', 'V320', 'V125', 'V281',\n",
        " 'V300', 'V102', 'id_23', 'V114', 'V117', 'V284', 'V286', 'V316',  'V105', 'V120', 'V104', 'V290', 'V301', 'dist2', 'id_26',\n",
        " 'V112', 'V115', 'V321', 'id_24', 'V122', 'V113', 'V299', 'V111']"
      ],
      "execution_count": 0,
      "outputs": []
    },
    {
      "cell_type": "code",
      "metadata": {
        "hidden": true,
        "id": "Hyy_DxQ-6nxs",
        "colab_type": "code",
        "colab": {}
      },
      "source": [
        "# Drop useless columns\n",
        "df_train = df_train.drop(cols_to_drop, axis=1)\n",
        "df_test = df_test.drop(cols_to_drop, axis=1)"
      ],
      "execution_count": 0,
      "outputs": []
    },
    {
      "cell_type": "code",
      "metadata": {
        "hidden": true,
        "id": "sJJ-kASj6nxx",
        "colab_type": "code",
        "outputId": "6247596e-901c-47ca-81a4-391c524ceffb",
        "colab": {}
      },
      "source": [
        "df_train.shape"
      ],
      "execution_count": 0,
      "outputs": [
        {
          "output_type": "execute_result",
          "data": {
            "text/plain": [
              "(590540, 367)"
            ]
          },
          "metadata": {
            "tags": []
          },
          "execution_count": 174
        }
      ]
    },
    {
      "cell_type": "markdown",
      "metadata": {
        "hidden": true,
        "id": "J0UFZK0A6nxz",
        "colab_type": "text"
      },
      "source": [
        "## Extracting value from existing columns"
      ]
    },
    {
      "cell_type": "markdown",
      "metadata": {
        "hidden": true,
        "id": "jMvwRze86nxz",
        "colab_type": "text"
      },
      "source": [
        "Based on our findings in the EDA phase of the analysis, our dataframe has columns which can be cleaned up and split in order to extract more usefull information. \n",
        "> Note: every change we make to `df_train` also has to be made to `df_test`.\n",
        "\n",
        "***id_split*** is a function that can:\n",
        "- Split `DeviceInfo` column on `/` to create 2 new columns containing information about the device name and version. \n",
        "- Split `id_30` column on `' '` to create 2 new columns containing information about the OS and the version of the OS.\n",
        "- Split `id_31` column on `' '` to create 2 new columsn containing information about the browser, and the browser version.\n",
        "- Group all combinations of phone manufacturer into one common name to avoid having too many distinct phone manufacturer categories\n",
        "- Map uncommon screensizes to 'Others', instead of having a bunch of screen sizes that didn't make sense.\n",
        "\n",
        "Once our function is applied, we'll delete the columns that were split to avoid redundancy. "
      ]
    },
    {
      "cell_type": "code",
      "metadata": {
        "hidden": true,
        "id": "k1u8LxPV6nxz",
        "colab_type": "code",
        "colab": {}
      },
      "source": [
        "import gc\n",
        "def id_split(df):\n",
        "    df['device_name'] = df['DeviceInfo'].str.split('/', expand=True)[0]\n",
        "    df['device_version'] = df['DeviceInfo'].str.split('/', expand=True)[1]\n",
        "\n",
        "    df['OS_id_30'] = df['id_30'].str.split(' ', expand=True)[0]\n",
        "    df['version_id_30'] = df['id_30'].str.split(' ', expand=True)[1]\n",
        "\n",
        "    df['browser_id_31'] = df['id_31'].str.split(' ', expand=True)[0]\n",
        "    df['version_id_31'] = df['id_31'].str.split(' ', expand=True)[1]\n",
        "\n",
        "    # Group similar names into the same category\n",
        "    df.loc[df['device_name'].str.contains('SM', na=False), 'device_name'] = 'Samsung'\n",
        "    df.loc[df['device_name'].str.contains('SAMSUNG', na=False), 'device_name'] = 'Samsung'\n",
        "    df.loc[df['device_name'].str.contains('GT-', na=False), 'device_name'] = 'Samsung'\n",
        "    df.loc[df['device_name'].str.contains('Moto G', na=False), 'device_name'] = 'Motorola'\n",
        "    df.loc[df['device_name'].str.contains('Moto', na=False), 'device_name'] = 'Motorola'\n",
        "    df.loc[df['device_name'].str.contains('moto', na=False), 'device_name'] = 'Motorola'\n",
        "    df.loc[df['device_name'].str.contains('LG-', na=False), 'device_name'] = 'LG'\n",
        "    df.loc[df['device_name'].str.contains('rv:', na=False), 'device_name'] = 'RV'\n",
        "    df.loc[df['device_name'].str.contains('HUAWEI', na=False), 'device_name'] = 'Huawei'\n",
        "    df.loc[df['device_name'].str.contains('ALE-', na=False), 'device_name'] = 'Huawei'\n",
        "    df.loc[df['device_name'].str.contains('-L', na=False), 'device_name'] = 'Huawei'\n",
        "    df.loc[df['device_name'].str.contains('Blade', na=False), 'device_name'] = 'ZTE'\n",
        "    df.loc[df['device_name'].str.contains('BLADE', na=False), 'device_name'] = 'ZTE'\n",
        "    df.loc[df['device_name'].str.contains('Linux', na=False), 'device_name'] = 'Linux'\n",
        "    df.loc[df['device_name'].str.contains('XT', na=False), 'device_name'] = 'Sony'\n",
        "    df.loc[df['device_name'].str.contains('HTC', na=False), 'device_name'] = 'HTC'\n",
        "    df.loc[df['device_name'].str.contains('ASUS', na=False), 'device_name'] = 'Asus'\n",
        "    \n",
        "    # Change atypical screensizes with value_counts < 30 to 'Others'\n",
        "    df.loc[df.id_33.isin(df.id_33.value_counts()[df.id_33.value_counts() < 30].index), 'id_33'] = \"Others\"\n",
        "        \n",
        "    df.loc[df.device_name.isin(df.device_name.value_counts()[df.device_name.value_counts() < 200].index), 'device_name'] = \"Others\"\n",
        "    df['had_id'] = 1\n",
        "    gc.collect()\n",
        "    \n",
        "    return df"
      ],
      "execution_count": 0,
      "outputs": []
    },
    {
      "cell_type": "code",
      "metadata": {
        "hidden": true,
        "id": "P9ClDzCu6nx2",
        "colab_type": "code",
        "outputId": "4c751d9d-f570-4a3c-fa10-8a384e65311b",
        "colab": {}
      },
      "source": [
        "# Apply the function to df_train and df_test\n",
        "id_split(df_train)\n",
        "id_split(df_test)"
      ],
      "execution_count": 0,
      "outputs": [
        {
          "output_type": "execute_result",
          "data": {
            "text/html": [
              "<div>\n",
              "<style scoped>\n",
              "    .dataframe tbody tr th:only-of-type {\n",
              "        vertical-align: middle;\n",
              "    }\n",
              "\n",
              "    .dataframe tbody tr th {\n",
              "        vertical-align: top;\n",
              "    }\n",
              "\n",
              "    .dataframe thead th {\n",
              "        text-align: right;\n",
              "    }\n",
              "</style>\n",
              "<table border=\"1\" class=\"dataframe\">\n",
              "  <thead>\n",
              "    <tr style=\"text-align: right;\">\n",
              "      <th></th>\n",
              "      <th>TransactionDT</th>\n",
              "      <th>TransactionAmt</th>\n",
              "      <th>ProductCD</th>\n",
              "      <th>card1</th>\n",
              "      <th>card2</th>\n",
              "      <th>card3</th>\n",
              "      <th>card4</th>\n",
              "      <th>card5</th>\n",
              "      <th>card6</th>\n",
              "      <th>addr1</th>\n",
              "      <th>...</th>\n",
              "      <th>id_38</th>\n",
              "      <th>DeviceType</th>\n",
              "      <th>DeviceInfo</th>\n",
              "      <th>device_name</th>\n",
              "      <th>device_version</th>\n",
              "      <th>OS_id_30</th>\n",
              "      <th>version_id_30</th>\n",
              "      <th>browser_id_31</th>\n",
              "      <th>version_id_31</th>\n",
              "      <th>had_id</th>\n",
              "    </tr>\n",
              "    <tr>\n",
              "      <th>TransactionID</th>\n",
              "      <th></th>\n",
              "      <th></th>\n",
              "      <th></th>\n",
              "      <th></th>\n",
              "      <th></th>\n",
              "      <th></th>\n",
              "      <th></th>\n",
              "      <th></th>\n",
              "      <th></th>\n",
              "      <th></th>\n",
              "      <th></th>\n",
              "      <th></th>\n",
              "      <th></th>\n",
              "      <th></th>\n",
              "      <th></th>\n",
              "      <th></th>\n",
              "      <th></th>\n",
              "      <th></th>\n",
              "      <th></th>\n",
              "      <th></th>\n",
              "      <th></th>\n",
              "    </tr>\n",
              "  </thead>\n",
              "  <tbody>\n",
              "    <tr>\n",
              "      <td>3663549</td>\n",
              "      <td>18403224</td>\n",
              "      <td>31.950</td>\n",
              "      <td>W</td>\n",
              "      <td>10409</td>\n",
              "      <td>111.0</td>\n",
              "      <td>150.0</td>\n",
              "      <td>visa</td>\n",
              "      <td>226.0</td>\n",
              "      <td>debit</td>\n",
              "      <td>170.0</td>\n",
              "      <td>...</td>\n",
              "      <td>NaN</td>\n",
              "      <td>NaN</td>\n",
              "      <td>NaN</td>\n",
              "      <td>NaN</td>\n",
              "      <td>NaN</td>\n",
              "      <td>NaN</td>\n",
              "      <td>NaN</td>\n",
              "      <td>NaN</td>\n",
              "      <td>NaN</td>\n",
              "      <td>1</td>\n",
              "    </tr>\n",
              "    <tr>\n",
              "      <td>3663550</td>\n",
              "      <td>18403263</td>\n",
              "      <td>49.000</td>\n",
              "      <td>W</td>\n",
              "      <td>4272</td>\n",
              "      <td>111.0</td>\n",
              "      <td>150.0</td>\n",
              "      <td>visa</td>\n",
              "      <td>226.0</td>\n",
              "      <td>debit</td>\n",
              "      <td>299.0</td>\n",
              "      <td>...</td>\n",
              "      <td>NaN</td>\n",
              "      <td>NaN</td>\n",
              "      <td>NaN</td>\n",
              "      <td>NaN</td>\n",
              "      <td>NaN</td>\n",
              "      <td>NaN</td>\n",
              "      <td>NaN</td>\n",
              "      <td>NaN</td>\n",
              "      <td>NaN</td>\n",
              "      <td>1</td>\n",
              "    </tr>\n",
              "    <tr>\n",
              "      <td>3663551</td>\n",
              "      <td>18403310</td>\n",
              "      <td>171.000</td>\n",
              "      <td>W</td>\n",
              "      <td>4476</td>\n",
              "      <td>574.0</td>\n",
              "      <td>150.0</td>\n",
              "      <td>visa</td>\n",
              "      <td>226.0</td>\n",
              "      <td>debit</td>\n",
              "      <td>472.0</td>\n",
              "      <td>...</td>\n",
              "      <td>NaN</td>\n",
              "      <td>NaN</td>\n",
              "      <td>NaN</td>\n",
              "      <td>NaN</td>\n",
              "      <td>NaN</td>\n",
              "      <td>NaN</td>\n",
              "      <td>NaN</td>\n",
              "      <td>NaN</td>\n",
              "      <td>NaN</td>\n",
              "      <td>1</td>\n",
              "    </tr>\n",
              "    <tr>\n",
              "      <td>3663552</td>\n",
              "      <td>18403310</td>\n",
              "      <td>284.950</td>\n",
              "      <td>W</td>\n",
              "      <td>10989</td>\n",
              "      <td>360.0</td>\n",
              "      <td>150.0</td>\n",
              "      <td>visa</td>\n",
              "      <td>166.0</td>\n",
              "      <td>debit</td>\n",
              "      <td>205.0</td>\n",
              "      <td>...</td>\n",
              "      <td>NaN</td>\n",
              "      <td>NaN</td>\n",
              "      <td>NaN</td>\n",
              "      <td>NaN</td>\n",
              "      <td>NaN</td>\n",
              "      <td>NaN</td>\n",
              "      <td>NaN</td>\n",
              "      <td>NaN</td>\n",
              "      <td>NaN</td>\n",
              "      <td>1</td>\n",
              "    </tr>\n",
              "    <tr>\n",
              "      <td>3663553</td>\n",
              "      <td>18403317</td>\n",
              "      <td>67.950</td>\n",
              "      <td>W</td>\n",
              "      <td>18018</td>\n",
              "      <td>452.0</td>\n",
              "      <td>150.0</td>\n",
              "      <td>mastercard</td>\n",
              "      <td>117.0</td>\n",
              "      <td>debit</td>\n",
              "      <td>264.0</td>\n",
              "      <td>...</td>\n",
              "      <td>NaN</td>\n",
              "      <td>NaN</td>\n",
              "      <td>NaN</td>\n",
              "      <td>NaN</td>\n",
              "      <td>NaN</td>\n",
              "      <td>NaN</td>\n",
              "      <td>NaN</td>\n",
              "      <td>NaN</td>\n",
              "      <td>NaN</td>\n",
              "      <td>1</td>\n",
              "    </tr>\n",
              "    <tr>\n",
              "      <td>...</td>\n",
              "      <td>...</td>\n",
              "      <td>...</td>\n",
              "      <td>...</td>\n",
              "      <td>...</td>\n",
              "      <td>...</td>\n",
              "      <td>...</td>\n",
              "      <td>...</td>\n",
              "      <td>...</td>\n",
              "      <td>...</td>\n",
              "      <td>...</td>\n",
              "      <td>...</td>\n",
              "      <td>...</td>\n",
              "      <td>...</td>\n",
              "      <td>...</td>\n",
              "      <td>...</td>\n",
              "      <td>...</td>\n",
              "      <td>...</td>\n",
              "      <td>...</td>\n",
              "      <td>...</td>\n",
              "      <td>...</td>\n",
              "      <td>...</td>\n",
              "    </tr>\n",
              "    <tr>\n",
              "      <td>4170235</td>\n",
              "      <td>34214279</td>\n",
              "      <td>94.679</td>\n",
              "      <td>C</td>\n",
              "      <td>13832</td>\n",
              "      <td>375.0</td>\n",
              "      <td>185.0</td>\n",
              "      <td>mastercard</td>\n",
              "      <td>224.0</td>\n",
              "      <td>debit</td>\n",
              "      <td>284.0</td>\n",
              "      <td>...</td>\n",
              "      <td>NaN</td>\n",
              "      <td>NaN</td>\n",
              "      <td>NaN</td>\n",
              "      <td>NaN</td>\n",
              "      <td>NaN</td>\n",
              "      <td>NaN</td>\n",
              "      <td>NaN</td>\n",
              "      <td>NaN</td>\n",
              "      <td>NaN</td>\n",
              "      <td>1</td>\n",
              "    </tr>\n",
              "    <tr>\n",
              "      <td>4170236</td>\n",
              "      <td>34214287</td>\n",
              "      <td>12.173</td>\n",
              "      <td>C</td>\n",
              "      <td>3154</td>\n",
              "      <td>408.0</td>\n",
              "      <td>185.0</td>\n",
              "      <td>mastercard</td>\n",
              "      <td>224.0</td>\n",
              "      <td>debit</td>\n",
              "      <td>NaN</td>\n",
              "      <td>...</td>\n",
              "      <td>F</td>\n",
              "      <td>mobile</td>\n",
              "      <td>ALE-L23 Build/HuaweiALE-L23</td>\n",
              "      <td>Huawei</td>\n",
              "      <td>HuaweiALE-L23</td>\n",
              "      <td>NaN</td>\n",
              "      <td>NaN</td>\n",
              "      <td>chrome</td>\n",
              "      <td>43.0</td>\n",
              "      <td>1</td>\n",
              "    </tr>\n",
              "    <tr>\n",
              "      <td>4170237</td>\n",
              "      <td>34214326</td>\n",
              "      <td>49.000</td>\n",
              "      <td>W</td>\n",
              "      <td>16661</td>\n",
              "      <td>490.0</td>\n",
              "      <td>150.0</td>\n",
              "      <td>visa</td>\n",
              "      <td>226.0</td>\n",
              "      <td>debit</td>\n",
              "      <td>327.0</td>\n",
              "      <td>...</td>\n",
              "      <td>NaN</td>\n",
              "      <td>NaN</td>\n",
              "      <td>NaN</td>\n",
              "      <td>NaN</td>\n",
              "      <td>NaN</td>\n",
              "      <td>NaN</td>\n",
              "      <td>NaN</td>\n",
              "      <td>NaN</td>\n",
              "      <td>NaN</td>\n",
              "      <td>1</td>\n",
              "    </tr>\n",
              "    <tr>\n",
              "      <td>4170238</td>\n",
              "      <td>34214337</td>\n",
              "      <td>202.000</td>\n",
              "      <td>W</td>\n",
              "      <td>16621</td>\n",
              "      <td>516.0</td>\n",
              "      <td>150.0</td>\n",
              "      <td>mastercard</td>\n",
              "      <td>224.0</td>\n",
              "      <td>debit</td>\n",
              "      <td>177.0</td>\n",
              "      <td>...</td>\n",
              "      <td>NaN</td>\n",
              "      <td>NaN</td>\n",
              "      <td>NaN</td>\n",
              "      <td>NaN</td>\n",
              "      <td>NaN</td>\n",
              "      <td>NaN</td>\n",
              "      <td>NaN</td>\n",
              "      <td>NaN</td>\n",
              "      <td>NaN</td>\n",
              "      <td>1</td>\n",
              "    </tr>\n",
              "    <tr>\n",
              "      <td>4170239</td>\n",
              "      <td>34214345</td>\n",
              "      <td>24.346</td>\n",
              "      <td>C</td>\n",
              "      <td>5713</td>\n",
              "      <td>168.0</td>\n",
              "      <td>144.0</td>\n",
              "      <td>visa</td>\n",
              "      <td>147.0</td>\n",
              "      <td>credit</td>\n",
              "      <td>NaN</td>\n",
              "      <td>...</td>\n",
              "      <td>F</td>\n",
              "      <td>mobile</td>\n",
              "      <td>SAMSUNG</td>\n",
              "      <td>Samsung</td>\n",
              "      <td>None</td>\n",
              "      <td>NaN</td>\n",
              "      <td>NaN</td>\n",
              "      <td>samsung</td>\n",
              "      <td>browser</td>\n",
              "      <td>1</td>\n",
              "    </tr>\n",
              "  </tbody>\n",
              "</table>\n",
              "<p>506691 rows × 373 columns</p>\n",
              "</div>"
            ],
            "text/plain": [
              "               TransactionDT  TransactionAmt ProductCD  card1  card2  card3  \\\n",
              "TransactionID                                                                 \n",
              "3663549             18403224          31.950         W  10409  111.0  150.0   \n",
              "3663550             18403263          49.000         W   4272  111.0  150.0   \n",
              "3663551             18403310         171.000         W   4476  574.0  150.0   \n",
              "3663552             18403310         284.950         W  10989  360.0  150.0   \n",
              "3663553             18403317          67.950         W  18018  452.0  150.0   \n",
              "...                      ...             ...       ...    ...    ...    ...   \n",
              "4170235             34214279          94.679         C  13832  375.0  185.0   \n",
              "4170236             34214287          12.173         C   3154  408.0  185.0   \n",
              "4170237             34214326          49.000         W  16661  490.0  150.0   \n",
              "4170238             34214337         202.000         W  16621  516.0  150.0   \n",
              "4170239             34214345          24.346         C   5713  168.0  144.0   \n",
              "\n",
              "                    card4  card5   card6  addr1  ...  id_38  DeviceType  \\\n",
              "TransactionID                                    ...                      \n",
              "3663549              visa  226.0   debit  170.0  ...    NaN         NaN   \n",
              "3663550              visa  226.0   debit  299.0  ...    NaN         NaN   \n",
              "3663551              visa  226.0   debit  472.0  ...    NaN         NaN   \n",
              "3663552              visa  166.0   debit  205.0  ...    NaN         NaN   \n",
              "3663553        mastercard  117.0   debit  264.0  ...    NaN         NaN   \n",
              "...                   ...    ...     ...    ...  ...    ...         ...   \n",
              "4170235        mastercard  224.0   debit  284.0  ...    NaN         NaN   \n",
              "4170236        mastercard  224.0   debit    NaN  ...      F      mobile   \n",
              "4170237              visa  226.0   debit  327.0  ...    NaN         NaN   \n",
              "4170238        mastercard  224.0   debit  177.0  ...    NaN         NaN   \n",
              "4170239              visa  147.0  credit    NaN  ...      F      mobile   \n",
              "\n",
              "                                DeviceInfo device_name  device_version  \\\n",
              "TransactionID                                                            \n",
              "3663549                                NaN         NaN             NaN   \n",
              "3663550                                NaN         NaN             NaN   \n",
              "3663551                                NaN         NaN             NaN   \n",
              "3663552                                NaN         NaN             NaN   \n",
              "3663553                                NaN         NaN             NaN   \n",
              "...                                    ...         ...             ...   \n",
              "4170235                                NaN         NaN             NaN   \n",
              "4170236        ALE-L23 Build/HuaweiALE-L23      Huawei   HuaweiALE-L23   \n",
              "4170237                                NaN         NaN             NaN   \n",
              "4170238                                NaN         NaN             NaN   \n",
              "4170239                            SAMSUNG     Samsung            None   \n",
              "\n",
              "               OS_id_30  version_id_30  browser_id_31  version_id_31  had_id  \n",
              "TransactionID                                                                 \n",
              "3663549             NaN            NaN            NaN            NaN       1  \n",
              "3663550             NaN            NaN            NaN            NaN       1  \n",
              "3663551             NaN            NaN            NaN            NaN       1  \n",
              "3663552             NaN            NaN            NaN            NaN       1  \n",
              "3663553             NaN            NaN            NaN            NaN       1  \n",
              "...                 ...            ...            ...            ...     ...  \n",
              "4170235             NaN            NaN            NaN            NaN       1  \n",
              "4170236             NaN            NaN         chrome           43.0       1  \n",
              "4170237             NaN            NaN            NaN            NaN       1  \n",
              "4170238             NaN            NaN            NaN            NaN       1  \n",
              "4170239             NaN            NaN        samsung        browser       1  \n",
              "\n",
              "[506691 rows x 373 columns]"
            ]
          },
          "metadata": {
            "tags": []
          },
          "execution_count": 176
        }
      ]
    },
    {
      "cell_type": "code",
      "metadata": {
        "hidden": true,
        "id": "cjXtl3lb6nx3",
        "colab_type": "code",
        "colab": {}
      },
      "source": [
        "# delete splited cols to remove redundant information \n",
        "split_col = ['DeviceInfo', 'id_30', 'id_31']\n",
        "df_train.drop(split_col, axis=1, inplace=True)\n",
        "df_test.drop(split_col, axis=1, inplace=True)"
      ],
      "execution_count": 0,
      "outputs": []
    },
    {
      "cell_type": "markdown",
      "metadata": {
        "hidden": true,
        "id": "8Uqjusiu6nx4",
        "colab_type": "text"
      },
      "source": [
        "### **More feature engineering based on feature importance and EDA**\n",
        "\n",
        "- `TransactionAmt` looks like it would be more informative using its log values.\n",
        "- We'll also create a new column `TransactionAmt_decimal` with only the decimal values of `TransactionAmt`.\n",
        "- `TransactionDT` is a column related to time, but we have to apply some transformations in order to get the information we want. We'll extract `Transaction_day_of_week` and `Transaction_hour` and create 2 new columns. "
      ]
    },
    {
      "cell_type": "code",
      "metadata": {
        "hidden": true,
        "id": "qGcZn86a6nx4",
        "colab_type": "code",
        "colab": {}
      },
      "source": [
        "# Add feature: log of transaction amount\n",
        "df_train['TransactionAmt_Log'] = np.log(df_train['TransactionAmt'])\n",
        "df_test['TransactionAmt_Log'] = np.log(df_test['TransactionAmt'])\n",
        "\n",
        "# Add feature: day of the week \n",
        "df_train['Transaction_day_of_week'] = np.floor((df_train['TransactionDT'] / (3600 * 24) - 1) % 7)\n",
        "df_test['Transaction_day_of_week'] = np.floor((df_train['TransactionDT'] / (3600 * 24) - 1) % 7)\n",
        "                                               \n",
        "# Add feature: hour of the day \n",
        "df_train['Transaction_hour'] = np.floor(df_train['TransactionDT'] / 3600) % 24\n",
        "df_test['Transaction_hour'] = np.floor(df_test['TransactionDT'] / 3600) % 24\n",
        "\n",
        "# Add feature: decimal part of the transaction amount\n",
        "df_train['TransactionAmt_decimal'] = ((df_train['TransactionAmt'] - df_train['TransactionAmt'].astype(int)) * 1000).astype(int)\n",
        "df_test['TransactionAmt_decimal'] = ((df_test['TransactionAmt'] - df_test['TransactionAmt'].astype(int)) * 1000).astype(int)"
      ],
      "execution_count": 0,
      "outputs": []
    },
    {
      "cell_type": "markdown",
      "metadata": {
        "hidden": true,
        "id": "BiFhtF9h6nx7",
        "colab_type": "text"
      },
      "source": [
        "Valuable information can be extracted from `P_emaildomain` and `R_emaildomain`: \n",
        "- Group each variation of emails into different categories. Ex: msn.com, hotmail.es and outlook.com will all be maped to `microsoft`.\n",
        "- Get the Top Level Domains of all email addresses (.es, .co.jp, .de, etc). "
      ]
    },
    {
      "cell_type": "code",
      "metadata": {
        "hidden": true,
        "id": "ZXfxpM6e6nx7",
        "colab_type": "code",
        "colab": {}
      },
      "source": [
        "# Dictionnary of email domains mapped to more general categories\n",
        "emails = {'gmail': 'google', 'att.net': 'att', 'twc.com': 'spectrum', 'scranton.edu': 'other', \n",
        "          'optonline.net': 'other', 'hotmail.co.uk': 'microsoft', 'comcast.net': 'other', \n",
        "           'yahoo.com.mx': 'yahoo', 'yahoo.fr': 'yahoo', 'yahoo.es': 'yahoo', 'charter.net': 'spectrum', \n",
        "           'live.com': 'microsoft', 'aim.com': 'aol', 'hotmail.de': 'microsoft', 'centurylink.net': 'centurylink',\n",
        "           'gmail.com': 'google', 'me.com': 'apple', 'earthlink.net': 'other', 'gmx.de': 'other', 'web.de': 'other',\n",
        "            'cfl.rr.com': 'other', 'hotmail.com': 'microsoft', 'protonmail.com': 'other', 'hotmail.fr': 'microsoft', \n",
        "            'windstream.net': 'other', 'outlook.es': 'microsoft', 'yahoo.co.jp': 'yahoo', 'yahoo.de': 'yahoo',\n",
        "          'servicios-ta.com': 'other', 'netzero.net': 'other', 'suddenlink.net': 'other', 'roadrunner.com': 'other', \n",
        "          'sc.rr.com': 'other', 'live.fr': 'microsoft', 'verizon.net': 'yahoo', 'msn.com': 'microsoft', 'q.com': 'centurylink', \n",
        "          'prodigy.net.mx': 'att', 'frontier.com': 'yahoo', 'anonymous.com': 'other', 'rocketmail.com': 'yahoo',\n",
        "          'sbcglobal.net': 'att', 'frontiernet.net': 'yahoo', 'ymail.com': 'yahoo', 'outlook.com': 'microsoft',\n",
        "          'mail.com': 'other', 'bellsouth.net': 'other', 'embarqmail.com': 'centurylink', 'cableone.net': 'other', \n",
        "          'hotmail.es': 'microsoft', 'mac.com': 'apple', 'yahoo.co.uk': 'yahoo', 'netzero.com': 'other',\n",
        "          'yahoo.com': 'yahoo', 'live.com.mx': 'microsoft', 'ptd.net': 'other', 'cox.net': 'other', 'aol.com': 'aol',\n",
        "          'juno.com': 'other', 'icloud.com': 'apple'}\n",
        "us_emails = ['gmail', 'net', 'edu']\n",
        "\n",
        "# Perform the map change\n",
        "for c in ['P_emaildomain', 'R_emaildomain']:\n",
        "    df_train[c + '_bin'] = df_train[c].map(emails)\n",
        "    df_test[c + '_bin'] = df_test[c].map(emails)\n",
        "    \n",
        "    # Get the TLDs of each email\n",
        "    df_train[c + '_suffix'] = df_train[c].map(lambda x: str(x).split('.')[-1])\n",
        "    df_test[c + '_suffix'] = df_test[c].map(lambda x: str(x).split('.')[-1])\n",
        "    \n",
        "    # If \n",
        "    df_train[c + '_suffix'] = df_train[c + '_suffix'].map(lambda x: x if str(x) not in us_emails else 'us')\n",
        "    df_test[c + '_suffix'] = df_test[c + '_suffix'].map(lambda x: x if str(x) not in us_emails else 'us')"
      ],
      "execution_count": 0,
      "outputs": []
    },
    {
      "cell_type": "markdown",
      "metadata": {
        "hidden": true,
        "id": "PplDJkhN6nx8",
        "colab_type": "text"
      },
      "source": [
        "Next we'll group the mean transaction per card. "
      ]
    },
    {
      "cell_type": "code",
      "metadata": {
        "hidden": true,
        "id": "AacArfpV6nx8",
        "colab_type": "code",
        "colab": {}
      },
      "source": [
        "for card in ['card1', 'card2', 'card3', 'card4', 'card5']: \n",
        "    df_train['TransactionAmt_' + card + '_mean'] = df_train['TransactionAmt'] / df_train.groupby([card])['TransactionAmt'].transform('mean')\n",
        "    df_test['TransactionAmt_' + card + '_mean'] = df_test['TransactionAmt'] / df_test.groupby([card])['TransactionAmt'].transform('mean')"
      ],
      "execution_count": 0,
      "outputs": []
    },
    {
      "cell_type": "markdown",
      "metadata": {
        "hidden": true,
        "id": "BTtqz4B_6nx9",
        "colab_type": "text"
      },
      "source": [
        "Finally, we'll create interactions between important features."
      ]
    },
    {
      "cell_type": "code",
      "metadata": {
        "hidden": true,
        "id": "dIwQRIlW6nx-",
        "colab_type": "code",
        "colab": {}
      },
      "source": [
        "# Create more random interactions between important features \n",
        "for feature in ['P_emaildomain_bin__TransactionAmt_Log', 'P_emaildomain_bin__Transaction_hour', 'card1__card2', \n",
        "                'card1__card3', 'card1__card5', 'addr1__addr2', 'addr1__card1', \n",
        "                'card1__P_emaildomain_bin', 'card1__C1', 'card1__TransactionAmt_Log',\n",
        "                'V258__card1', 'V258__card2', 'V258__card3', 'V258__P_emaildomain_bin', 'V258__Transaction_hour', \n",
        "                 'version_id_31__device_version', 'version_id_31__device_name',\n",
        "                 'id_33__device_name', 'id_33__device_version', 'id_33__browser_id_31', \n",
        "                'card1__card4', 'P_emaildomain_bin__card4', 'TransactionAmt_Log__card4', \n",
        "                'id_33__version_id_31']:\n",
        "    f1, f2 = feature.split('__')\n",
        "    df_train[feature] = df_train[f1].astype(str) + '_' + df_train[f2].astype(str)\n",
        "    df_test[feature] = df_test[f1].astype(str) + '_' + df_test[f2].astype(str)"
      ],
      "execution_count": 0,
      "outputs": []
    },
    {
      "cell_type": "code",
      "metadata": {
        "hidden": true,
        "id": "vMix-Zf06nx_",
        "colab_type": "code",
        "outputId": "8323f6f1-b9e8-4b0b-be92-a4487fdf9ff5",
        "colab": {}
      },
      "source": [
        "# Checking shape\n",
        "df_train.shape, df_test.shape"
      ],
      "execution_count": 0,
      "outputs": [
        {
          "output_type": "execute_result",
          "data": {
            "text/plain": [
              "((590540, 408), (506691, 407))"
            ]
          },
          "metadata": {
            "tags": []
          },
          "execution_count": 182
        }
      ]
    },
    {
      "cell_type": "markdown",
      "metadata": {
        "hidden": true,
        "id": "y4O8zku56nyA",
        "colab_type": "text"
      },
      "source": [
        "## Apply the cleaning functions so that our new DataFrames are ready for training"
      ]
    },
    {
      "cell_type": "code",
      "metadata": {
        "hidden": true,
        "id": "GoBPQeb36nyA",
        "colab_type": "code",
        "colab": {}
      },
      "source": [
        "train_cats(df_train)\n",
        "apply_cats(df_test)"
      ],
      "execution_count": 0,
      "outputs": []
    },
    {
      "cell_type": "code",
      "metadata": {
        "hidden": true,
        "id": "7tEbBYSQ6nyB",
        "colab_type": "code",
        "colab": {}
      },
      "source": [
        "# Apply proc_df to transform our dataframe, remove NAs and create new columns with NAs\n",
        "df_train, y, nas = proc_df(df_train, 'isFraud', max_n_cat=8)"
      ],
      "execution_count": 0,
      "outputs": []
    },
    {
      "cell_type": "code",
      "metadata": {
        "hidden": true,
        "id": "BZ1rLmP06nyC",
        "colab_type": "code",
        "colab": {}
      },
      "source": [
        "# Apply proc_df to the test dataframe\n",
        "df_test, _, nas = proc_df(df_test, na_dict=nas, max_n_cat=8)"
      ],
      "execution_count": 0,
      "outputs": []
    },
    {
      "cell_type": "code",
      "metadata": {
        "hidden": true,
        "id": "uVQ5GnZp6nyD",
        "colab_type": "code",
        "colab": {}
      },
      "source": [
        "# Create a copy for safe measures\n",
        "df_train_copy = df_train.copy()\n",
        "df_test_copy = df_test.copy()"
      ],
      "execution_count": 0,
      "outputs": []
    },
    {
      "cell_type": "markdown",
      "metadata": {
        "heading_collapsed": true,
        "id": "KxMAHNLx6nyE",
        "colab_type": "text"
      },
      "source": [
        "# 8. Reducing Memory Usage and Saving Progress"
      ]
    },
    {
      "cell_type": "markdown",
      "metadata": {
        "hidden": true,
        "id": "GLvmD4qc6nyG",
        "colab_type": "text"
      },
      "source": [
        "---\n",
        "📣 **Reducing Memory Usage and Saving Progress**\n",
        "\n",
        "\n",
        "\n",
        "*   Reduce the memory usage of our data frame so that every time we run a model it goes faster.\n",
        "\n",
        "*   Save our DataFrame once the cleaning and feature engineering is done so that we don't have to run these steps again when we're continuing working where we left off.\n",
        "\n",
        " \n",
        "\n"
      ]
    },
    {
      "cell_type": "markdown",
      "metadata": {
        "hidden": true,
        "id": "bl8Iq-VD6nyG",
        "colab_type": "text"
      },
      "source": [
        "## Saving & Loading with Feather "
      ]
    },
    {
      "cell_type": "markdown",
      "metadata": {
        "hidden": true,
        "id": "8X8YXzVU6nyG",
        "colab_type": "text"
      },
      "source": [
        "**Save and import the fully cleaned and feature engineered dataset.**"
      ]
    },
    {
      "cell_type": "code",
      "metadata": {
        "hidden": true,
        "id": "g8Ln38Ke6nyG",
        "colab_type": "code",
        "colab": {}
      },
      "source": [
        "# Save\n",
        "os.makedirs('tmp', exist_ok=True)\n",
        "\n",
        "# Save df_train\n",
        "df_train.reset_index().to_feather('tmp/ieee_fraud_detection_train') # index must be reset in order to use feather\n",
        "\n",
        "# Save df_test\n",
        "df_test.reset_index().to_feather('tmp/ieee_fraud_detection_test')\n",
        "\n",
        "# Save the target variable normally because it is small \n",
        "np.save('tmp/y.npy', y)  "
      ],
      "execution_count": 0,
      "outputs": []
    },
    {
      "cell_type": "code",
      "metadata": {
        "hidden": true,
        "id": "cR1mWOrn6nyH",
        "colab_type": "code",
        "colab": {}
      },
      "source": [
        "# Load\n",
        "df_train = pd.read_feather('tmp/ieee_fraud_detection_train')\n",
        "df_test = pd.read_feather('tmp/ieee_fraud_detection_test')\n",
        "y = np.load('tmp/y.npy')"
      ],
      "execution_count": 0,
      "outputs": []
    },
    {
      "cell_type": "code",
      "metadata": {
        "hidden": true,
        "id": "kETQA1JA6nyJ",
        "colab_type": "code",
        "colab": {}
      },
      "source": [
        "# Set 'TransactionID' as index again\n",
        "df_train = df_train.set_index('TransactionID')\n",
        "df_test = df_test.set_index('TransactionID')"
      ],
      "execution_count": 0,
      "outputs": []
    },
    {
      "cell_type": "markdown",
      "metadata": {
        "hidden": true,
        "id": "neQ_Vncd6nyK",
        "colab_type": "text"
      },
      "source": [
        "### **Save and load the DataFrame with feature_importance > 80**"
      ]
    },
    {
      "cell_type": "code",
      "metadata": {
        "hidden": true,
        "id": "KckhnOPF6nyL",
        "colab_type": "code",
        "colab": {}
      },
      "source": [
        "# Save\n",
        "os.makedirs('tmp', exist_ok=True)\n",
        "\n",
        "# Save df_train\n",
        "df_train.reset_index().to_feather('tmp/ieee_fraud_detection_train_pruned') # index must be reset in order to use feather\n",
        "\n",
        "# Save df_test\n",
        "df_test.reset_index().to_feather('tmp/ieee_fraud_detection_test_pruned')\n",
        "\n",
        "# Save the target variable normally because it is small \n",
        "np.save('tmp/y.npy', y)"
      ],
      "execution_count": 0,
      "outputs": []
    },
    {
      "cell_type": "code",
      "metadata": {
        "hidden": true,
        "id": "zN41qe6h6nyL",
        "colab_type": "code",
        "colab": {}
      },
      "source": [
        "# Load\n",
        "df_train = pd.read_feather('tmp/ieee_fraud_detection_train_pruned')\n",
        "df_test = pd.read_feather('tmp/ieee_fraud_detection_test_pruned')\n",
        "y = np.load('tmp/y.npy')"
      ],
      "execution_count": 0,
      "outputs": []
    },
    {
      "cell_type": "code",
      "metadata": {
        "hidden": true,
        "id": "MWc75xmm6nyM",
        "colab_type": "code",
        "colab": {}
      },
      "source": [
        "# Set 'TransactionID' as index again\n",
        "df_train = df_train.set_index('TransactionID')\n",
        "df_test = df_test.set_index('TransactionID')"
      ],
      "execution_count": 0,
      "outputs": []
    },
    {
      "cell_type": "code",
      "metadata": {
        "hidden": true,
        "id": "hGOYSw8V6nyP",
        "colab_type": "code",
        "outputId": "1c5c3eb5-163c-4d10-bd00-85b9acb6f228",
        "colab": {}
      },
      "source": [
        "df_train.shape, df_test.shape"
      ],
      "execution_count": 0,
      "outputs": [
        {
          "output_type": "execute_result",
          "data": {
            "text/plain": [
              "((590540, 797), (506691, 796))"
            ]
          },
          "metadata": {
            "tags": []
          },
          "execution_count": 41
        }
      ]
    },
    {
      "cell_type": "markdown",
      "metadata": {
        "hidden": true,
        "id": "KrEacM0t6nyQ",
        "colab_type": "text"
      },
      "source": [
        "## Reduce memory usage"
      ]
    },
    {
      "cell_type": "code",
      "metadata": {
        "hidden": true,
        "id": "lylgT3BK6nyQ",
        "colab_type": "code",
        "colab": {}
      },
      "source": [
        "def reduce_mem_usage(df):\n",
        "    \"\"\" iterate through all the columns of a dataframe and modify the data type\n",
        "        to reduce memory usage.        \n",
        "    \"\"\"\n",
        "    start_mem = df.memory_usage().sum() / 1024**2\n",
        "    print('Memory usage of dataframe is {:.2f} MB'.format(start_mem))\n",
        "    \n",
        "    for col in df.columns:\n",
        "        col_type = df[col].dtype\n",
        "        \n",
        "        if col_type != object:\n",
        "            c_min = df[col].min()\n",
        "            c_max = df[col].max()\n",
        "            if str(col_type)[:3] == 'int':\n",
        "                if c_min > np.iinfo(np.int8).min and c_max < np.iinfo(np.int8).max:\n",
        "                    df[col] = df[col].astype(np.int8)\n",
        "                elif c_min > np.iinfo(np.int16).min and c_max < np.iinfo(np.int16).max:\n",
        "                    df[col] = df[col].astype(np.int16)\n",
        "                elif c_min > np.iinfo(np.int32).min and c_max < np.iinfo(np.int32).max:\n",
        "                    df[col] = df[col].astype(np.int32)\n",
        "                elif c_min > np.iinfo(np.int64).min and c_max < np.iinfo(np.int64).max:\n",
        "                    df[col] = df[col].astype(np.int64)  \n",
        "            else:\n",
        "                if c_min > np.finfo(np.float16).min and c_max < np.finfo(np.float16).max:\n",
        "                    df[col] = df[col].astype(np.float16)\n",
        "                elif c_min > np.finfo(np.float32).min and c_max < np.finfo(np.float32).max:\n",
        "                    df[col] = df[col].astype(np.float32)\n",
        "                else:\n",
        "                    df[col] = df[col].astype(np.float64)\n",
        "        else:\n",
        "            df[col] = df[col].astype('category')\n",
        "\n",
        "    end_mem = df.memory_usage().sum() / 1024**2\n",
        "    print('Memory usage after optimization is: {:.2f} MB'.format(end_mem))\n",
        "    print('Decreased by {:.1f}%'.format(100 * (start_mem - end_mem) / start_mem))\n",
        "    \n",
        "    return df"
      ],
      "execution_count": 0,
      "outputs": []
    },
    {
      "cell_type": "code",
      "metadata": {
        "hidden": true,
        "id": "JYqNKB9s6nyR",
        "colab_type": "code",
        "outputId": "d83a55ce-f715-41f2-ae17-a8d4136b7204",
        "colab": {}
      },
      "source": [
        "reduce_mem_usage(df_train)\n",
        "reduce_mem_usage(df_test)"
      ],
      "execution_count": 0,
      "outputs": [
        {
          "output_type": "stream",
          "text": [
            "Memory usage of dataframe is 1452.45 MB\n",
            "Memory usage after optimization is: 507.99 MB\n",
            "Decreased by 65.0%\n",
            "Memory usage of dataframe is 1246.22 MB\n"
          ],
          "name": "stdout"
        },
        {
          "output_type": "stream",
          "text": [
            "C:\\ProgramData\\Anaconda3\\lib\\site-packages\\ipykernel_launcher.py:24: RuntimeWarning: invalid value encountered in less\n",
            "C:\\ProgramData\\Anaconda3\\lib\\site-packages\\ipykernel_launcher.py:26: RuntimeWarning: invalid value encountered in less\n"
          ],
          "name": "stderr"
        },
        {
          "output_type": "stream",
          "text": [
            "Memory usage after optimization is: 446.49 MB\n",
            "Decreased by 64.2%\n"
          ],
          "name": "stdout"
        },
        {
          "output_type": "execute_result",
          "data": {
            "text/html": [
              "<div>\n",
              "<style scoped>\n",
              "    .dataframe tbody tr th:only-of-type {\n",
              "        vertical-align: middle;\n",
              "    }\n",
              "\n",
              "    .dataframe tbody tr th {\n",
              "        vertical-align: top;\n",
              "    }\n",
              "\n",
              "    .dataframe thead th {\n",
              "        text-align: right;\n",
              "    }\n",
              "</style>\n",
              "<table border=\"1\" class=\"dataframe\">\n",
              "  <thead>\n",
              "    <tr style=\"text-align: right;\">\n",
              "      <th></th>\n",
              "      <th>TransactionDT</th>\n",
              "      <th>addr1__card1</th>\n",
              "      <th>card1</th>\n",
              "      <th>P_emaildomain_bin__TransactionAmt_Log</th>\n",
              "      <th>TransactionAmt_card1_mean</th>\n",
              "      <th>card2</th>\n",
              "      <th>TransactionAmt_card2_mean</th>\n",
              "      <th>P_emaildomain_bin__Transaction_hour</th>\n",
              "      <th>card1__card2</th>\n",
              "      <th>V258__card2</th>\n",
              "      <th>...</th>\n",
              "      <th>V76_na</th>\n",
              "      <th>V15</th>\n",
              "      <th>V148</th>\n",
              "      <th>V16</th>\n",
              "      <th>V254</th>\n",
              "      <th>M1_T</th>\n",
              "      <th>V177</th>\n",
              "      <th>V235</th>\n",
              "      <th>V198</th>\n",
              "      <th>V175</th>\n",
              "    </tr>\n",
              "    <tr>\n",
              "      <th>TransactionID</th>\n",
              "      <th></th>\n",
              "      <th></th>\n",
              "      <th></th>\n",
              "      <th></th>\n",
              "      <th></th>\n",
              "      <th></th>\n",
              "      <th></th>\n",
              "      <th></th>\n",
              "      <th></th>\n",
              "      <th></th>\n",
              "      <th></th>\n",
              "      <th></th>\n",
              "      <th></th>\n",
              "      <th></th>\n",
              "      <th></th>\n",
              "      <th></th>\n",
              "      <th></th>\n",
              "      <th></th>\n",
              "      <th></th>\n",
              "      <th></th>\n",
              "      <th></th>\n",
              "    </tr>\n",
              "  </thead>\n",
              "  <tbody>\n",
              "    <tr>\n",
              "      <td>3663549</td>\n",
              "      <td>18403224</td>\n",
              "      <td>3894</td>\n",
              "      <td>10409</td>\n",
              "      <td>6007</td>\n",
              "      <td>0.339355</td>\n",
              "      <td>111.0</td>\n",
              "      <td>0.209595</td>\n",
              "      <td>96</td>\n",
              "      <td>394</td>\n",
              "      <td>1693</td>\n",
              "      <td>...</td>\n",
              "      <td>0.0</td>\n",
              "      <td>0.0</td>\n",
              "      <td>1.0</td>\n",
              "      <td>0.0</td>\n",
              "      <td>1.0</td>\n",
              "      <td>1.0</td>\n",
              "      <td>0.0</td>\n",
              "      <td>0.0</td>\n",
              "      <td>1.0</td>\n",
              "      <td>0.0</td>\n",
              "    </tr>\n",
              "    <tr>\n",
              "      <td>3663550</td>\n",
              "      <td>18403263</td>\n",
              "      <td>19590</td>\n",
              "      <td>4272</td>\n",
              "      <td>182</td>\n",
              "      <td>0.333496</td>\n",
              "      <td>111.0</td>\n",
              "      <td>0.321289</td>\n",
              "      <td>1</td>\n",
              "      <td>9754</td>\n",
              "      <td>1693</td>\n",
              "      <td>...</td>\n",
              "      <td>0.0</td>\n",
              "      <td>0.0</td>\n",
              "      <td>1.0</td>\n",
              "      <td>0.0</td>\n",
              "      <td>1.0</td>\n",
              "      <td>1.0</td>\n",
              "      <td>0.0</td>\n",
              "      <td>0.0</td>\n",
              "      <td>1.0</td>\n",
              "      <td>0.0</td>\n",
              "    </tr>\n",
              "    <tr>\n",
              "      <td>3663551</td>\n",
              "      <td>18403310</td>\n",
              "      <td>33954</td>\n",
              "      <td>4476</td>\n",
              "      <td>21061</td>\n",
              "      <td>1.485352</td>\n",
              "      <td>574.0</td>\n",
              "      <td>0.987305</td>\n",
              "      <td>120</td>\n",
              "      <td>9911</td>\n",
              "      <td>2156</td>\n",
              "      <td>...</td>\n",
              "      <td>0.0</td>\n",
              "      <td>0.0</td>\n",
              "      <td>1.0</td>\n",
              "      <td>0.0</td>\n",
              "      <td>1.0</td>\n",
              "      <td>1.0</td>\n",
              "      <td>0.0</td>\n",
              "      <td>0.0</td>\n",
              "      <td>1.0</td>\n",
              "      <td>0.0</td>\n",
              "    </tr>\n",
              "    <tr>\n",
              "      <td>3663552</td>\n",
              "      <td>18403310</td>\n",
              "      <td>10486</td>\n",
              "      <td>10989</td>\n",
              "      <td>10924</td>\n",
              "      <td>2.968750</td>\n",
              "      <td>360.0</td>\n",
              "      <td>2.894531</td>\n",
              "      <td>96</td>\n",
              "      <td>932</td>\n",
              "      <td>1942</td>\n",
              "      <td>...</td>\n",
              "      <td>0.0</td>\n",
              "      <td>0.0</td>\n",
              "      <td>1.0</td>\n",
              "      <td>0.0</td>\n",
              "      <td>1.0</td>\n",
              "      <td>1.0</td>\n",
              "      <td>0.0</td>\n",
              "      <td>0.0</td>\n",
              "      <td>1.0</td>\n",
              "      <td>0.0</td>\n",
              "    </tr>\n",
              "    <tr>\n",
              "      <td>3663553</td>\n",
              "      <td>18403317</td>\n",
              "      <td>15046</td>\n",
              "      <td>18018</td>\n",
              "      <td>7948</td>\n",
              "      <td>0.567383</td>\n",
              "      <td>452.0</td>\n",
              "      <td>0.566406</td>\n",
              "      <td>96</td>\n",
              "      <td>7377</td>\n",
              "      <td>2034</td>\n",
              "      <td>...</td>\n",
              "      <td>0.0</td>\n",
              "      <td>0.0</td>\n",
              "      <td>1.0</td>\n",
              "      <td>0.0</td>\n",
              "      <td>1.0</td>\n",
              "      <td>1.0</td>\n",
              "      <td>0.0</td>\n",
              "      <td>0.0</td>\n",
              "      <td>1.0</td>\n",
              "      <td>0.0</td>\n",
              "    </tr>\n",
              "    <tr>\n",
              "      <td>...</td>\n",
              "      <td>...</td>\n",
              "      <td>...</td>\n",
              "      <td>...</td>\n",
              "      <td>...</td>\n",
              "      <td>...</td>\n",
              "      <td>...</td>\n",
              "      <td>...</td>\n",
              "      <td>...</td>\n",
              "      <td>...</td>\n",
              "      <td>...</td>\n",
              "      <td>...</td>\n",
              "      <td>...</td>\n",
              "      <td>...</td>\n",
              "      <td>...</td>\n",
              "      <td>...</td>\n",
              "      <td>...</td>\n",
              "      <td>...</td>\n",
              "      <td>...</td>\n",
              "      <td>...</td>\n",
              "      <td>...</td>\n",
              "      <td>...</td>\n",
              "    </tr>\n",
              "    <tr>\n",
              "      <td>4170235</td>\n",
              "      <td>34214279</td>\n",
              "      <td>17936</td>\n",
              "      <td>13832</td>\n",
              "      <td>8845</td>\n",
              "      <td>2.771484</td>\n",
              "      <td>375.0</td>\n",
              "      <td>2.882812</td>\n",
              "      <td>112</td>\n",
              "      <td>3565</td>\n",
              "      <td>1957</td>\n",
              "      <td>...</td>\n",
              "      <td>0.0</td>\n",
              "      <td>1.0</td>\n",
              "      <td>1.0</td>\n",
              "      <td>1.0</td>\n",
              "      <td>1.0</td>\n",
              "      <td>0.0</td>\n",
              "      <td>0.0</td>\n",
              "      <td>0.0</td>\n",
              "      <td>1.0</td>\n",
              "      <td>0.0</td>\n",
              "    </tr>\n",
              "    <tr>\n",
              "      <td>4170236</td>\n",
              "      <td>34214287</td>\n",
              "      <td>38988</td>\n",
              "      <td>3154</td>\n",
              "      <td>15903</td>\n",
              "      <td>0.360107</td>\n",
              "      <td>408.0</td>\n",
              "      <td>0.351807</td>\n",
              "      <td>136</td>\n",
              "      <td>8816</td>\n",
              "      <td>304</td>\n",
              "      <td>...</td>\n",
              "      <td>0.0</td>\n",
              "      <td>1.0</td>\n",
              "      <td>1.0</td>\n",
              "      <td>1.0</td>\n",
              "      <td>1.0</td>\n",
              "      <td>0.0</td>\n",
              "      <td>0.0</td>\n",
              "      <td>0.0</td>\n",
              "      <td>1.0</td>\n",
              "      <td>0.0</td>\n",
              "    </tr>\n",
              "    <tr>\n",
              "      <td>4170237</td>\n",
              "      <td>34214326</td>\n",
              "      <td>24736</td>\n",
              "      <td>16661</td>\n",
              "      <td>18207</td>\n",
              "      <td>0.424072</td>\n",
              "      <td>490.0</td>\n",
              "      <td>0.350586</td>\n",
              "      <td>136</td>\n",
              "      <td>6138</td>\n",
              "      <td>2072</td>\n",
              "      <td>...</td>\n",
              "      <td>0.0</td>\n",
              "      <td>0.0</td>\n",
              "      <td>1.0</td>\n",
              "      <td>0.0</td>\n",
              "      <td>1.0</td>\n",
              "      <td>1.0</td>\n",
              "      <td>0.0</td>\n",
              "      <td>0.0</td>\n",
              "      <td>1.0</td>\n",
              "      <td>0.0</td>\n",
              "    </tr>\n",
              "    <tr>\n",
              "      <td>4170238</td>\n",
              "      <td>34214337</td>\n",
              "      <td>0</td>\n",
              "      <td>16621</td>\n",
              "      <td>21256</td>\n",
              "      <td>2.314453</td>\n",
              "      <td>516.0</td>\n",
              "      <td>1.890625</td>\n",
              "      <td>136</td>\n",
              "      <td>0</td>\n",
              "      <td>2098</td>\n",
              "      <td>...</td>\n",
              "      <td>0.0</td>\n",
              "      <td>0.0</td>\n",
              "      <td>1.0</td>\n",
              "      <td>0.0</td>\n",
              "      <td>1.0</td>\n",
              "      <td>1.0</td>\n",
              "      <td>0.0</td>\n",
              "      <td>0.0</td>\n",
              "      <td>1.0</td>\n",
              "      <td>0.0</td>\n",
              "    </tr>\n",
              "    <tr>\n",
              "      <td>4170239</td>\n",
              "      <td>34214345</td>\n",
              "      <td>39371</td>\n",
              "      <td>5713</td>\n",
              "      <td>16729</td>\n",
              "      <td>0.162964</td>\n",
              "      <td>168.0</td>\n",
              "      <td>0.161865</td>\n",
              "      <td>136</td>\n",
              "      <td>10930</td>\n",
              "      <td>71</td>\n",
              "      <td>...</td>\n",
              "      <td>0.0</td>\n",
              "      <td>1.0</td>\n",
              "      <td>1.0</td>\n",
              "      <td>1.0</td>\n",
              "      <td>1.0</td>\n",
              "      <td>0.0</td>\n",
              "      <td>0.0</td>\n",
              "      <td>0.0</td>\n",
              "      <td>1.0</td>\n",
              "      <td>0.0</td>\n",
              "    </tr>\n",
              "  </tbody>\n",
              "</table>\n",
              "<p>506691 rows × 413 columns</p>\n",
              "</div>"
            ],
            "text/plain": [
              "               TransactionDT  addr1__card1  card1  \\\n",
              "TransactionID                                       \n",
              "3663549             18403224          3894  10409   \n",
              "3663550             18403263         19590   4272   \n",
              "3663551             18403310         33954   4476   \n",
              "3663552             18403310         10486  10989   \n",
              "3663553             18403317         15046  18018   \n",
              "...                      ...           ...    ...   \n",
              "4170235             34214279         17936  13832   \n",
              "4170236             34214287         38988   3154   \n",
              "4170237             34214326         24736  16661   \n",
              "4170238             34214337             0  16621   \n",
              "4170239             34214345         39371   5713   \n",
              "\n",
              "               P_emaildomain_bin__TransactionAmt_Log  \\\n",
              "TransactionID                                          \n",
              "3663549                                         6007   \n",
              "3663550                                          182   \n",
              "3663551                                        21061   \n",
              "3663552                                        10924   \n",
              "3663553                                         7948   \n",
              "...                                              ...   \n",
              "4170235                                         8845   \n",
              "4170236                                        15903   \n",
              "4170237                                        18207   \n",
              "4170238                                        21256   \n",
              "4170239                                        16729   \n",
              "\n",
              "               TransactionAmt_card1_mean  card2  TransactionAmt_card2_mean  \\\n",
              "TransactionID                                                                \n",
              "3663549                         0.339355  111.0                   0.209595   \n",
              "3663550                         0.333496  111.0                   0.321289   \n",
              "3663551                         1.485352  574.0                   0.987305   \n",
              "3663552                         2.968750  360.0                   2.894531   \n",
              "3663553                         0.567383  452.0                   0.566406   \n",
              "...                                  ...    ...                        ...   \n",
              "4170235                         2.771484  375.0                   2.882812   \n",
              "4170236                         0.360107  408.0                   0.351807   \n",
              "4170237                         0.424072  490.0                   0.350586   \n",
              "4170238                         2.314453  516.0                   1.890625   \n",
              "4170239                         0.162964  168.0                   0.161865   \n",
              "\n",
              "               P_emaildomain_bin__Transaction_hour  card1__card2  V258__card2  \\\n",
              "TransactionID                                                                   \n",
              "3663549                                         96           394         1693   \n",
              "3663550                                          1          9754         1693   \n",
              "3663551                                        120          9911         2156   \n",
              "3663552                                         96           932         1942   \n",
              "3663553                                         96          7377         2034   \n",
              "...                                            ...           ...          ...   \n",
              "4170235                                        112          3565         1957   \n",
              "4170236                                        136          8816          304   \n",
              "4170237                                        136          6138         2072   \n",
              "4170238                                        136             0         2098   \n",
              "4170239                                        136         10930           71   \n",
              "\n",
              "               ...  V76_na  V15  V148  V16  V254  M1_T  V177  V235  V198  V175  \n",
              "TransactionID  ...                                                              \n",
              "3663549        ...     0.0  0.0   1.0  0.0   1.0   1.0   0.0   0.0   1.0   0.0  \n",
              "3663550        ...     0.0  0.0   1.0  0.0   1.0   1.0   0.0   0.0   1.0   0.0  \n",
              "3663551        ...     0.0  0.0   1.0  0.0   1.0   1.0   0.0   0.0   1.0   0.0  \n",
              "3663552        ...     0.0  0.0   1.0  0.0   1.0   1.0   0.0   0.0   1.0   0.0  \n",
              "3663553        ...     0.0  0.0   1.0  0.0   1.0   1.0   0.0   0.0   1.0   0.0  \n",
              "...            ...     ...  ...   ...  ...   ...   ...   ...   ...   ...   ...  \n",
              "4170235        ...     0.0  1.0   1.0  1.0   1.0   0.0   0.0   0.0   1.0   0.0  \n",
              "4170236        ...     0.0  1.0   1.0  1.0   1.0   0.0   0.0   0.0   1.0   0.0  \n",
              "4170237        ...     0.0  0.0   1.0  0.0   1.0   1.0   0.0   0.0   1.0   0.0  \n",
              "4170238        ...     0.0  0.0   1.0  0.0   1.0   1.0   0.0   0.0   1.0   0.0  \n",
              "4170239        ...     0.0  1.0   1.0  1.0   1.0   0.0   0.0   0.0   1.0   0.0  \n",
              "\n",
              "[506691 rows x 413 columns]"
            ]
          },
          "metadata": {
            "tags": []
          },
          "execution_count": 222
        }
      ]
    },
    {
      "cell_type": "code",
      "metadata": {
        "hidden": true,
        "id": "uPTvrRFS6nyS",
        "colab_type": "code",
        "colab": {}
      },
      "source": [
        "# sanity check \n",
        "df_train.info(verbose=True)"
      ],
      "execution_count": 0,
      "outputs": []
    },
    {
      "cell_type": "markdown",
      "metadata": {
        "heading_collapsed": true,
        "id": "RFV9Pu6B6nyT",
        "colab_type": "text"
      },
      "source": [
        "# 9. LGBM Hyperparameter Tuning & Training the Model"
      ]
    },
    {
      "cell_type": "markdown",
      "metadata": {
        "hidden": true,
        "id": "ZFnMRo3X6nyV",
        "colab_type": "text"
      },
      "source": [
        "## Grid Search\n",
        "\n",
        "Grid search is applied to find the best parameters. \n"
      ]
    },
    {
      "cell_type": "code",
      "metadata": {
        "hidden": true,
        "id": "yEJt5BTH6nyW",
        "colab_type": "code",
        "colab": {}
      },
      "source": [
        "gridparams = {\n",
        "    'learning_rate': [0.001, 0.005, 0.01, 0.05],\n",
        "    'num_leaves': [20, 25, 31, 35],\n",
        "    'subsample': [0.7, 1],\n",
        "    'metric': ['auc'],\n",
        "    'boosting_type': ['gbdt', 'dart'],\n",
        "    'objective': ['binary'],\n",
        "    'colsample_bytree' : [0.64, 0.66, 0.7, 1],\n",
        "    'reg_alpha': [1, 1.2, 1.4]\n",
        "}"
      ],
      "execution_count": 0,
      "outputs": []
    },
    {
      "cell_type": "code",
      "metadata": {
        "hidden": true,
        "id": "v_Vf2dwd6nyX",
        "colab_type": "code",
        "outputId": "ab130f29-0402-4921-b402-e2c05c1ee9b2",
        "colab": {}
      },
      "source": [
        "search = GridSearchCV(model, gridparams, verbose=1, n_jobs=-1)\n",
        "search.fit(X_train, y_train)"
      ],
      "execution_count": 0,
      "outputs": [
        {
          "output_type": "stream",
          "text": [
            "C:\\ProgramData\\Anaconda3\\lib\\site-packages\\sklearn\\model_selection\\_split.py:1978: FutureWarning: The default value of cv will change from 3 to 5 in version 0.22. Specify it explicitly to silence this warning.\n",
            "  warnings.warn(CV_WARNING, FutureWarning)\n",
            "[Parallel(n_jobs=-1)]: Using backend LokyBackend with 8 concurrent workers.\n"
          ],
          "name": "stderr"
        },
        {
          "output_type": "stream",
          "text": [
            "Fitting 3 folds for each of 18 candidates, totalling 54 fits\n"
          ],
          "name": "stdout"
        },
        {
          "output_type": "stream",
          "text": [
            "[Parallel(n_jobs=-1)]: Done  34 tasks      | elapsed:  5.4min\n",
            "[Parallel(n_jobs=-1)]: Done  54 out of  54 | elapsed:  7.6min finished\n"
          ],
          "name": "stderr"
        },
        {
          "output_type": "execute_result",
          "data": {
            "text/plain": [
              "GridSearchCV(cv='warn', error_score='raise-deprecating',\n",
              "             estimator=LGBMClassifier(boosting_type='gbdt', class_weight=None,\n",
              "                                      colsample_bytree=0.7,\n",
              "                                      importance_type='split',\n",
              "                                      learning_rate=0.008, max_depth=-1,\n",
              "                                      min_child_samples=20,\n",
              "                                      min_child_weight=0.001,\n",
              "                                      min_split_gain=0.0, n_estimators=100,\n",
              "                                      n_jobs=-1, num_leaves=50,\n",
              "                                      objective='binary', random_state=None,\n",
              "                                      reg_alpha=0.2, reg_lambda=0.4,\n",
              "                                      silent=True, subsample=1.0,\n",
              "                                      subsample_for_bin=200000,\n",
              "                                      subsample_freq=0),\n",
              "             iid='warn', n_jobs=-1,\n",
              "             param_grid={'colsample_bytree': [0.7, 0.64],\n",
              "                         'learning_rate': [0.006, 0.008, 0.01],\n",
              "                         'num_leaves': [60, 150, 400]},\n",
              "             pre_dispatch='2*n_jobs', refit=True, return_train_score=False,\n",
              "             scoring=None, verbose=1)"
            ]
          },
          "metadata": {
            "tags": []
          },
          "execution_count": 156
        }
      ]
    },
    {
      "cell_type": "markdown",
      "metadata": {
        "hidden": true,
        "id": "6uhWkyFP6nyZ",
        "colab_type": "text"
      },
      "source": [
        "## Using LGBM model"
      ]
    },
    {
      "cell_type": "markdown",
      "metadata": {
        "hidden": true,
        "id": "38ItsG4R6nyZ",
        "colab_type": "text"
      },
      "source": [
        "These are the parameters I am using for the model.\n",
        "\n",
        "(Combination of hyperparameters taken from a public kernel in Kaggle and some that I have found myself.)"
      ]
    },
    {
      "cell_type": "code",
      "metadata": {
        "hidden": true,
        "id": "bSGUxzYe6nyZ",
        "colab_type": "code",
        "colab": {}
      },
      "source": [
        "params = {'num_leaves': 600,\n",
        "          'min_child_weight': 0.03454472573214212,\n",
        "          'feature_fraction': 0.4,\n",
        "          'bagging_fraction': 0.6,\n",
        "          'min_data_in_leaf': 106,\n",
        "          'objective': 'binary',\n",
        "          'max_depth': -1,\n",
        "          'learning_rate': 0.005,\n",
        "          \"boosting_type\": \"gbdt\",\n",
        "          \"bagging_seed\": 11,\n",
        "          \"metric\": 'auc',\n",
        "          \"verbosity\": -1,\n",
        "          'reg_alpha': 0.3899927210061127,\n",
        "          'reg_lambda': 0.6485237330340494,\n",
        "          'random_state': 47,\n",
        "          'max_bin': 500\n",
        "         }"
      ],
      "execution_count": 0,
      "outputs": []
    },
    {
      "cell_type": "markdown",
      "metadata": {
        "hidden": true,
        "id": "xgRAB53w6nyb",
        "colab_type": "text"
      },
      "source": [
        "Create a sample training and validation dataset to fine tuning parameters and reduce training time."
      ]
    },
    {
      "cell_type": "code",
      "metadata": {
        "hidden": true,
        "id": "K4GUfkv56nyc",
        "colab_type": "code",
        "outputId": "33254d08-8235-4dd6-967b-3701c913ca5c",
        "colab": {}
      },
      "source": [
        "# Create a training and validation data set. \n",
        "n = 50_000\n",
        "m = 65_000\n",
        "X_train, X_valid = split_vals_sample(df_train, n, m)\n",
        "y_train, y_valid = split_vals_sample(y, n, m)\n",
        "\n",
        "print(F'X_train: {len(X_train)}, X_valid: {len(X_valid)}, y_train: {len(y_train)}, y_valid: {len(y_valid)}')"
      ],
      "execution_count": 0,
      "outputs": [
        {
          "output_type": "stream",
          "text": [
            "X_train: 50000, X_valid: 15000, y_train: 50000, y_valid: 15000\n"
          ],
          "name": "stdout"
        }
      ]
    },
    {
      "cell_type": "code",
      "metadata": {
        "hidden": true,
        "id": "_HmINLJR6nyd",
        "colab_type": "code",
        "outputId": "e67ef17a-a418-4a19-9fae-d1170d3b0329",
        "colab": {}
      },
      "source": [
        "dtrain = lgb.Dataset(X_train, label=y_train)\n",
        "dvalid = lgb.Dataset(X_valid, label=y_valid)\n",
        "\n",
        "%time clf = lgb.train(params, dtrain, 10000, valid_sets = [dtrain, dvalid], verbose_eval=200, early_stopping_rounds=500)"
      ],
      "execution_count": 0,
      "outputs": [
        {
          "output_type": "stream",
          "text": [
            "Training until validation scores don't improve for 500 rounds.\n",
            "[200]\ttraining's auc: 0.952552\tvalid_1's auc: 0.906107\n",
            "[400]\ttraining's auc: 0.969201\tvalid_1's auc: 0.916365\n",
            "[600]\ttraining's auc: 0.983639\tvalid_1's auc: 0.92596\n",
            "[800]\ttraining's auc: 0.991602\tvalid_1's auc: 0.932032\n",
            "[1000]\ttraining's auc: 0.99581\tvalid_1's auc: 0.935288\n",
            "[1200]\ttraining's auc: 0.997993\tvalid_1's auc: 0.936999\n",
            "[1400]\ttraining's auc: 0.999073\tvalid_1's auc: 0.937526\n",
            "[1600]\ttraining's auc: 0.999591\tvalid_1's auc: 0.937742\n",
            "[1800]\ttraining's auc: 0.999824\tvalid_1's auc: 0.937923\n",
            "[2000]\ttraining's auc: 0.999927\tvalid_1's auc: 0.93808\n",
            "[2200]\ttraining's auc: 0.999971\tvalid_1's auc: 0.938182\n",
            "[2400]\ttraining's auc: 0.999989\tvalid_1's auc: 0.938316\n",
            "[2600]\ttraining's auc: 0.999996\tvalid_1's auc: 0.938344\n",
            "[2800]\ttraining's auc: 0.999999\tvalid_1's auc: 0.93844\n",
            "[3000]\ttraining's auc: 1\tvalid_1's auc: 0.938445\n",
            "[3200]\ttraining's auc: 1\tvalid_1's auc: 0.938323\n",
            "Early stopping, best iteration is:\n",
            "[2867]\ttraining's auc: 0.999999\tvalid_1's auc: 0.938519\n",
            "Wall time: 28min 47s\n"
          ],
          "name": "stdout"
        }
      ]
    }
  ]
}